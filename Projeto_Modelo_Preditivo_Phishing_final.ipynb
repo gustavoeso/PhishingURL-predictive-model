{
 "cells": [
  {
   "cell_type": "markdown",
   "metadata": {
    "application/vnd.databricks.v1+cell": {
     "cellMetadata": {},
     "inputWidgets": {},
     "nuid": "454f41c8-35f1-4a69-ba13-c817638eea42",
     "showTitle": false,
     "tableResultSettingsMap": {},
     "title": ""
    }
   },
   "source": [
    "# Introdução ao Problema de Phishing e motivação do projeto\n",
    "#### Integrantes do grupo: Gustavo Eliziario Stevenson de Oliveira, Pedro Gomes, Graziela Piacsek, Giovanna Sebba\n",
    "\n",
    "Phishing é uma prática maliciosa em que fraudadadores criam páginas falsas, geralmente disfarçadas como websites legítimos, com o objetivo de roubar informações sensíveis, como senhas, dados bancários e outros tipos de credenciais. Esses ataques muitas vezes utilizam URLs enganosos que imitam endereços confiáveis para induzir os usuários a acreditar que estão acessando os sites autênticos.\n",
    "\n",
    "O phishing é um problema de segunrança cibernética que impacta tanto indivíduos comuns quanto empresas, gerando perdas significativas e comprometendo a privacidade de usuários. Em nosso cenário no qual é inviável a inspeção manual de cada URL, surge a necessidade de métodos automatizados para a deteccção de phishing.\n",
    "\n",
    "Por conta disso, o objetivo deste projeto é desenvolver um modelo preditivo capaz de classificar URLs como legítimos ou de phishing. Utilizando uma base de dados de URLs previamente rotulados, o modelo explorará características dos links para identificar padrões que diferencial URLs seguros de URLs maliciosos. Este modelo será desenvolvido no Databricks, permitindo que seu desemprenho seja escalável e que possa acessar grandes volumes de dados.\n"
   ]
  },
  {
   "cell_type": "markdown",
   "metadata": {
    "application/vnd.databricks.v1+cell": {
     "cellMetadata": {},
     "inputWidgets": {},
     "nuid": "56226c91-2670-4096-a826-f7296fcd1496",
     "showTitle": false,
     "tableResultSettingsMap": {},
     "title": ""
    }
   },
   "source": [
    "## Importar bibliotecas necessárias\n",
    "\n",
    "Vamos importar as bibliotecas necessárias para o projeto"
   ]
  },
  {
   "cell_type": "code",
   "execution_count": 0,
   "metadata": {
    "application/vnd.databricks.v1+cell": {
     "cellMetadata": {
      "byteLimit": 2048000,
      "rowLimit": 10000
     },
     "inputWidgets": {},
     "nuid": "5ce2f8d5-04eb-4fed-996d-84243397ff22",
     "showTitle": false,
     "tableResultSettingsMap": {},
     "title": ""
    }
   },
   "outputs": [],
   "source": [
    "import pyspark.sql.functions as func\n",
    "\n",
    "# Machine learning imports\n",
    "from pyspark.ml.feature import VectorAssembler\n",
    "from pyspark.ml.classification import LogisticRegression\n",
    "from pyspark.ml.classification import DecisionTreeClassifier\n",
    "from pyspark.ml.classification import RandomForestClassifier, GBTClassifier\n",
    "from pyspark.ml.evaluation import MulticlassClassificationEvaluator\n",
    "from pyspark.ml.evaluation import BinaryClassificationEvaluator\n",
    "\n",
    "# Mlflow\n",
    "import mlflow\n",
    "import mlflow.spark\n",
    "\n",
    "from sklearn.metrics import roc_curve, auc, confusion_matrix\n",
    "import matplotlib.pyplot as plt\n",
    "import seaborn as sns"
   ]
  },
  {
   "cell_type": "markdown",
   "metadata": {
    "application/vnd.databricks.v1+cell": {
     "cellMetadata": {},
     "inputWidgets": {},
     "nuid": "1a364dae-18b9-446d-8b00-fad7713c3c74",
     "showTitle": false,
     "tableResultSettingsMap": {},
     "title": ""
    }
   },
   "source": [
    "## Carregando tabelas\n",
    "\n",
    "Para carregar tabelas, utilizaremos um caminho do S3:"
   ]
  },
  {
   "cell_type": "code",
   "execution_count": 0,
   "metadata": {
    "application/vnd.databricks.v1+cell": {
     "cellMetadata": {
      "byteLimit": 2048000,
      "rowLimit": 10000
     },
     "inputWidgets": {},
     "nuid": "d214b7b9-1b2f-49e7-84bc-d8d39c3654d7",
     "showTitle": false,
     "tableResultSettingsMap": {},
     "title": ""
    }
   },
   "outputs": [
    {
     "output_type": "display_data",
     "data": {
      "text/html": [
       "<style scoped>\n",
       "  .table-result-container {\n",
       "    max-height: 300px;\n",
       "    overflow: auto;\n",
       "  }\n",
       "  table, th, td {\n",
       "    border: 1px solid black;\n",
       "    border-collapse: collapse;\n",
       "  }\n",
       "  th, td {\n",
       "    padding: 5px;\n",
       "  }\n",
       "  th {\n",
       "    text-align: left;\n",
       "  }\n",
       "</style><div class='table-result-container'><table class='table-result'><thead style='background-color: white'><tr><th>FILENAME</th><th>URL</th><th>URLLength</th><th>Domain</th><th>DomainLength</th><th>IsDomainIP</th><th>TLD</th><th>URLSimilarityIndex</th><th>CharContinuationRate</th><th>TLDLegitimateProb</th><th>URLCharProb</th><th>TLDLength</th><th>NoOfSubDomain</th><th>HasObfuscation</th><th>NoOfObfuscatedChar</th><th>ObfuscationRatio</th><th>NoOfLettersInURL</th><th>LetterRatioInURL</th><th>NoOfDegitsInURL</th><th>DegitRatioInURL</th><th>NoOfEqualsInURL</th><th>NoOfQMarkInURL</th><th>NoOfAmpersandInURL</th><th>NoOfOtherSpecialCharsInURL</th><th>SpacialCharRatioInURL</th><th>IsHTTPS</th><th>LineOfCode</th><th>LargestLineLength</th><th>HasTitle</th><th>Title</th><th>DomainTitleMatchScore</th><th>URLTitleMatchScore</th><th>HasFavicon</th><th>Robots</th><th>IsResponsive</th><th>NoOfURLRedirect</th><th>NoOfSelfRedirect</th><th>HasDescription</th><th>NoOfPopup</th><th>NoOfiFrame</th><th>HasExternalFormSubmit</th><th>HasSocialNet</th><th>HasSubmitButton</th><th>HasHiddenFields</th><th>HasPasswordField</th><th>Bank</th><th>Pay</th><th>Crypto</th><th>HasCopyrightInfo</th><th>NoOfImage</th><th>NoOfCSS</th><th>NoOfJS</th><th>NoOfSelfRef</th><th>NoOfEmptyRef</th><th>NoOfExternalRef</th><th>label</th></tr></thead><tbody><tr><td>521848.txt</td><td>https://www.southbankmosaics.com</td><td>31</td><td>www.southbankmosaics.com</td><td>24</td><td>0</td><td>com</td><td>100</td><td>1</td><td>0.5229071</td><td>0.061933179</td><td>3</td><td>1</td><td>0</td><td>0</td><td>0</td><td>18</td><td>0.581</td><td>0</td><td>0</td><td>0</td><td>0</td><td>0</td><td>1</td><td>0.032</td><td>1</td><td>558</td><td>9381</td><td>1</td><td>à¸‚à¹ˆà¸²à¸§à¸ªà¸” à¸‚à¹ˆà¸²à¸§à¸§à¸±à¸™à¸™à¸µà¹‰ à¸‚à¹ˆà¸²à¸§à¸à¸µà¸¬à¸² à¸‚à¹ˆà¸²à¸§à¸šà¸±à¸™à¹€à¸—à¸´à¸‡ à¸­à¸±à¸žà¹€à¸”à¸—à¸ªà¸”à¹ƒà¸«à¸¡à¹ˆà¸—à¸¸à¸à¸§à¸±à¸™ &#8211; à¸‚à¹ˆà¸²à¸§à¸ªà¸” à¸‚à¹ˆà¸²à¸§à¸à¸µà¸¬à¸² à¸‚à¹ˆà¸²à¸§à¸šà¸±à¸™à¹€à¸—à¸´à¸‡ à¸‚à¹ˆà¸²à¸§à¸§à¸±à¸™à¸™à¸µà¹‰ à¸­à¸±à¸›à¹€à¸”à¸•à¸‚à¹ˆà¸²à¸§à¸ªà¸²à¸£à¸£à¸§à¸”à¹€à¸£à¹‡à¸§à¸—à¸±à¸™à¹ƒà¸ˆ à¸žà¸£à¹‰à¸­à¸¡à¸£à¸±à¸šà¸Šà¸¡à¸ªà¸²à¸£à¸°à¸™à¹ˆà¸²à¸£à¸¹à¹‰à¸•à¹ˆà¸²à¸‡à¹† à¹„à¸”à¹‰à¸Ÿà¸£à¸µà¸•à¸¥à¸­à¸” 24à¸Šà¸±à¹ˆà¸§à¹‚à¸¡à¸‡</td><td>0</td><td>0</td><td>0</td><td>1</td><td>1</td><td>0</td><td>0</td><td>0</td><td>0</td><td>1</td><td>0</td><td>0</td><td>1</td><td>1</td><td>0</td><td>1</td><td>0</td><td>0</td><td>1</td><td>34</td><td>20</td><td>28</td><td>119</td><td>0</td><td>124</td><td>1</td></tr><tr><td>31372.txt</td><td>https://www.uni-mainz.de</td><td>23</td><td>www.uni-mainz.de</td><td>16</td><td>0</td><td>de</td><td>100</td><td>0.666666667</td><td>0.0326503</td><td>0.050207214</td><td>2</td><td>1</td><td>0</td><td>0</td><td>0</td><td>9</td><td>0.391</td><td>0</td><td>0</td><td>0</td><td>0</td><td>0</td><td>2</td><td>0.087</td><td>1</td><td>618</td><td>9381</td><td>1</td><td>johannes gutenberg-universitÃ¤t mainz</td><td>55.55555556</td><td>55.55555556</td><td>1</td><td>1</td><td>0</td><td>0</td><td>0</td><td>0</td><td>0</td><td>0</td><td>0</td><td>1</td><td>1</td><td>0</td><td>0</td><td>0</td><td>0</td><td>0</td><td>1</td><td>50</td><td>9</td><td>8</td><td>39</td><td>0</td><td>217</td><td>1</td></tr><tr><td>597387.txt</td><td>https://www.voicefmradio.co.uk</td><td>29</td><td>www.voicefmradio.co.uk</td><td>22</td><td>0</td><td>uk</td><td>100</td><td>0.866666667</td><td>0.028555</td><td>0.06412872</td><td>2</td><td>2</td><td>0</td><td>0</td><td>0</td><td>15</td><td>0.517</td><td>0</td><td>0</td><td>0</td><td>0</td><td>0</td><td>2</td><td>0.069</td><td>1</td><td>467</td><td>682</td><td>1</td><td>voice fm southampton</td><td>46.66666667</td><td>46.66666667</td><td>0</td><td>1</td><td>1</td><td>0</td><td>0</td><td>1</td><td>0</td><td>0</td><td>0</td><td>0</td><td>1</td><td>1</td><td>0</td><td>0</td><td>0</td><td>0</td><td>1</td><td>10</td><td>2</td><td>7</td><td>42</td><td>2</td><td>5</td><td>1</td></tr><tr><td>554095.txt</td><td>https://www.sfnmjournal.com</td><td>26</td><td>www.sfnmjournal.com</td><td>19</td><td>0</td><td>com</td><td>100</td><td>1</td><td>0.5229071</td><td>0.057605756</td><td>3</td><td>1</td><td>0</td><td>0</td><td>0</td><td>13</td><td>0.5</td><td>0</td><td>0</td><td>0</td><td>0</td><td>0</td><td>1</td><td>0.038</td><td>1</td><td>6356</td><td>26824</td><td>1</td><td>home page: seminars in fetal and neonatal medicine </td><td>0</td><td>0</td><td>0</td><td>1</td><td>1</td><td>0</td><td>0</td><td>0</td><td>1</td><td>12</td><td>0</td><td>1</td><td>1</td><td>1</td><td>0</td><td>0</td><td>1</td><td>1</td><td>1</td><td>3</td><td>27</td><td>15</td><td>22</td><td>1</td><td>31</td><td>1</td></tr><tr><td>151578.txt</td><td>https://www.rewildingargentina.org</td><td>33</td><td>www.rewildingargentina.org</td><td>26</td><td>0</td><td>org</td><td>100</td><td>1</td><td>0.0799628</td><td>0.059441389</td><td>3</td><td>1</td><td>0</td><td>0</td><td>0</td><td>20</td><td>0.606</td><td>0</td><td>0</td><td>0</td><td>0</td><td>0</td><td>1</td><td>0.03</td><td>1</td><td>6089</td><td>28404</td><td>1</td><td>fundaciÃ³n rewilding argentina</td><td>100</td><td>100</td><td>0</td><td>1</td><td>1</td><td>1</td><td>1</td><td>1</td><td>0</td><td>2</td><td>0</td><td>1</td><td>1</td><td>1</td><td>0</td><td>1</td><td>1</td><td>0</td><td>1</td><td>244</td><td>15</td><td>34</td><td>72</td><td>1</td><td>85</td><td>1</td></tr></tbody></table></div>"
      ]
     },
     "metadata": {
      "application/vnd.databricks.v1+output": {
       "addedWidgets": {},
       "aggData": [],
       "aggError": "",
       "aggOverflow": false,
       "aggSchema": [],
       "aggSeriesLimitReached": false,
       "aggType": "",
       "arguments": {},
       "columnCustomDisplayInfos": {},
       "data": [
        [
         "521848.txt",
         "https://www.southbankmosaics.com",
         31,
         "www.southbankmosaics.com",
         24,
         0,
         "com",
         100,
         1,
         0.5229071,
         0.061933179,
         3,
         1,
         0,
         0,
         0,
         18,
         0.581,
         0,
         0,
         0,
         0,
         0,
         1,
         0.032,
         1,
         558,
         9381,
         1,
         "à¸‚à¹ˆà¸²à¸§à¸ªà¸” à¸‚à¹ˆà¸²à¸§à¸§à¸±à¸™à¸™à¸µà¹‰ à¸‚à¹ˆà¸²à¸§à¸à¸µà¸¬à¸² à¸‚à¹ˆà¸²à¸§à¸šà¸±à¸™à¹€à¸—à¸´à¸‡ à¸­à¸±à¸žà¹€à¸”à¸—à¸ªà¸”à¹ƒà¸«à¸¡à¹ˆà¸—à¸¸à¸à¸§à¸±à¸™ &#8211; à¸‚à¹ˆà¸²à¸§à¸ªà¸” à¸‚à¹ˆà¸²à¸§à¸à¸µà¸¬à¸² à¸‚à¹ˆà¸²à¸§à¸šà¸±à¸™à¹€à¸—à¸´à¸‡ à¸‚à¹ˆà¸²à¸§à¸§à¸±à¸™à¸™à¸µà¹‰ à¸­à¸±à¸›à¹€à¸”à¸•à¸‚à¹ˆà¸²à¸§à¸ªà¸²à¸£à¸£à¸§à¸”à¹€à¸£à¹‡à¸§à¸—à¸±à¸™à¹ƒà¸ˆ à¸žà¸£à¹‰à¸­à¸¡à¸£à¸±à¸šà¸Šà¸¡à¸ªà¸²à¸£à¸°à¸™à¹ˆà¸²à¸£à¸¹à¹‰à¸•à¹ˆà¸²à¸‡à¹† à¹„à¸”à¹‰à¸Ÿà¸£à¸µà¸•à¸¥à¸­à¸” 24à¸Šà¸±à¹ˆà¸§à¹‚à¸¡à¸‡",
         0,
         0,
         0,
         1,
         1,
         0,
         0,
         0,
         0,
         1,
         0,
         0,
         1,
         1,
         0,
         1,
         0,
         0,
         1,
         34,
         20,
         28,
         119,
         0,
         124,
         1
        ],
        [
         "31372.txt",
         "https://www.uni-mainz.de",
         23,
         "www.uni-mainz.de",
         16,
         0,
         "de",
         100,
         0.666666667,
         0.0326503,
         0.050207214,
         2,
         1,
         0,
         0,
         0,
         9,
         0.391,
         0,
         0,
         0,
         0,
         0,
         2,
         0.087,
         1,
         618,
         9381,
         1,
         "johannes gutenberg-universitÃ¤t mainz",
         55.55555556,
         55.55555556,
         1,
         1,
         0,
         0,
         0,
         0,
         0,
         0,
         0,
         1,
         1,
         0,
         0,
         0,
         0,
         0,
         1,
         50,
         9,
         8,
         39,
         0,
         217,
         1
        ],
        [
         "597387.txt",
         "https://www.voicefmradio.co.uk",
         29,
         "www.voicefmradio.co.uk",
         22,
         0,
         "uk",
         100,
         0.866666667,
         0.028555,
         0.06412872,
         2,
         2,
         0,
         0,
         0,
         15,
         0.517,
         0,
         0,
         0,
         0,
         0,
         2,
         0.069,
         1,
         467,
         682,
         1,
         "voice fm southampton",
         46.66666667,
         46.66666667,
         0,
         1,
         1,
         0,
         0,
         1,
         0,
         0,
         0,
         0,
         1,
         1,
         0,
         0,
         0,
         0,
         1,
         10,
         2,
         7,
         42,
         2,
         5,
         1
        ],
        [
         "554095.txt",
         "https://www.sfnmjournal.com",
         26,
         "www.sfnmjournal.com",
         19,
         0,
         "com",
         100,
         1,
         0.5229071,
         0.057605756,
         3,
         1,
         0,
         0,
         0,
         13,
         0.5,
         0,
         0,
         0,
         0,
         0,
         1,
         0.038,
         1,
         6356,
         26824,
         1,
         "home page: seminars in fetal and neonatal medicine ",
         0,
         0,
         0,
         1,
         1,
         0,
         0,
         0,
         1,
         12,
         0,
         1,
         1,
         1,
         0,
         0,
         1,
         1,
         1,
         3,
         27,
         15,
         22,
         1,
         31,
         1
        ],
        [
         "151578.txt",
         "https://www.rewildingargentina.org",
         33,
         "www.rewildingargentina.org",
         26,
         0,
         "org",
         100,
         1,
         0.0799628,
         0.059441389,
         3,
         1,
         0,
         0,
         0,
         20,
         0.606,
         0,
         0,
         0,
         0,
         0,
         1,
         0.03,
         1,
         6089,
         28404,
         1,
         "fundaciÃ³n rewilding argentina",
         100,
         100,
         0,
         1,
         1,
         1,
         1,
         1,
         0,
         2,
         0,
         1,
         1,
         1,
         0,
         1,
         1,
         0,
         1,
         244,
         15,
         34,
         72,
         1,
         85,
         1
        ]
       ],
       "datasetInfos": [],
       "dbfsResultPath": null,
       "isJsonSchema": true,
       "metadata": {},
       "overflow": false,
       "plotOptions": {
        "customPlotOptions": {},
        "displayType": "table",
        "pivotAggregation": null,
        "pivotColumns": null,
        "xColumns": null,
        "yColumns": null
       },
       "removedWidgets": [],
       "schema": [
        {
         "metadata": "{}",
         "name": "FILENAME",
         "type": "\"string\""
        },
        {
         "metadata": "{}",
         "name": "URL",
         "type": "\"string\""
        },
        {
         "metadata": "{}",
         "name": "URLLength",
         "type": "\"integer\""
        },
        {
         "metadata": "{}",
         "name": "Domain",
         "type": "\"string\""
        },
        {
         "metadata": "{}",
         "name": "DomainLength",
         "type": "\"integer\""
        },
        {
         "metadata": "{}",
         "name": "IsDomainIP",
         "type": "\"integer\""
        },
        {
         "metadata": "{}",
         "name": "TLD",
         "type": "\"string\""
        },
        {
         "metadata": "{}",
         "name": "URLSimilarityIndex",
         "type": "\"double\""
        },
        {
         "metadata": "{}",
         "name": "CharContinuationRate",
         "type": "\"double\""
        },
        {
         "metadata": "{}",
         "name": "TLDLegitimateProb",
         "type": "\"double\""
        },
        {
         "metadata": "{}",
         "name": "URLCharProb",
         "type": "\"double\""
        },
        {
         "metadata": "{}",
         "name": "TLDLength",
         "type": "\"integer\""
        },
        {
         "metadata": "{}",
         "name": "NoOfSubDomain",
         "type": "\"integer\""
        },
        {
         "metadata": "{}",
         "name": "HasObfuscation",
         "type": "\"integer\""
        },
        {
         "metadata": "{}",
         "name": "NoOfObfuscatedChar",
         "type": "\"integer\""
        },
        {
         "metadata": "{}",
         "name": "ObfuscationRatio",
         "type": "\"double\""
        },
        {
         "metadata": "{}",
         "name": "NoOfLettersInURL",
         "type": "\"integer\""
        },
        {
         "metadata": "{}",
         "name": "LetterRatioInURL",
         "type": "\"double\""
        },
        {
         "metadata": "{}",
         "name": "NoOfDegitsInURL",
         "type": "\"integer\""
        },
        {
         "metadata": "{}",
         "name": "DegitRatioInURL",
         "type": "\"double\""
        },
        {
         "metadata": "{}",
         "name": "NoOfEqualsInURL",
         "type": "\"integer\""
        },
        {
         "metadata": "{}",
         "name": "NoOfQMarkInURL",
         "type": "\"integer\""
        },
        {
         "metadata": "{}",
         "name": "NoOfAmpersandInURL",
         "type": "\"integer\""
        },
        {
         "metadata": "{}",
         "name": "NoOfOtherSpecialCharsInURL",
         "type": "\"integer\""
        },
        {
         "metadata": "{}",
         "name": "SpacialCharRatioInURL",
         "type": "\"double\""
        },
        {
         "metadata": "{}",
         "name": "IsHTTPS",
         "type": "\"integer\""
        },
        {
         "metadata": "{}",
         "name": "LineOfCode",
         "type": "\"integer\""
        },
        {
         "metadata": "{}",
         "name": "LargestLineLength",
         "type": "\"integer\""
        },
        {
         "metadata": "{}",
         "name": "HasTitle",
         "type": "\"integer\""
        },
        {
         "metadata": "{}",
         "name": "Title",
         "type": "\"string\""
        },
        {
         "metadata": "{}",
         "name": "DomainTitleMatchScore",
         "type": "\"double\""
        },
        {
         "metadata": "{}",
         "name": "URLTitleMatchScore",
         "type": "\"double\""
        },
        {
         "metadata": "{}",
         "name": "HasFavicon",
         "type": "\"integer\""
        },
        {
         "metadata": "{}",
         "name": "Robots",
         "type": "\"integer\""
        },
        {
         "metadata": "{}",
         "name": "IsResponsive",
         "type": "\"integer\""
        },
        {
         "metadata": "{}",
         "name": "NoOfURLRedirect",
         "type": "\"integer\""
        },
        {
         "metadata": "{}",
         "name": "NoOfSelfRedirect",
         "type": "\"integer\""
        },
        {
         "metadata": "{}",
         "name": "HasDescription",
         "type": "\"integer\""
        },
        {
         "metadata": "{}",
         "name": "NoOfPopup",
         "type": "\"integer\""
        },
        {
         "metadata": "{}",
         "name": "NoOfiFrame",
         "type": "\"integer\""
        },
        {
         "metadata": "{}",
         "name": "HasExternalFormSubmit",
         "type": "\"integer\""
        },
        {
         "metadata": "{}",
         "name": "HasSocialNet",
         "type": "\"integer\""
        },
        {
         "metadata": "{}",
         "name": "HasSubmitButton",
         "type": "\"integer\""
        },
        {
         "metadata": "{}",
         "name": "HasHiddenFields",
         "type": "\"integer\""
        },
        {
         "metadata": "{}",
         "name": "HasPasswordField",
         "type": "\"integer\""
        },
        {
         "metadata": "{}",
         "name": "Bank",
         "type": "\"integer\""
        },
        {
         "metadata": "{}",
         "name": "Pay",
         "type": "\"integer\""
        },
        {
         "metadata": "{}",
         "name": "Crypto",
         "type": "\"integer\""
        },
        {
         "metadata": "{}",
         "name": "HasCopyrightInfo",
         "type": "\"integer\""
        },
        {
         "metadata": "{}",
         "name": "NoOfImage",
         "type": "\"integer\""
        },
        {
         "metadata": "{}",
         "name": "NoOfCSS",
         "type": "\"integer\""
        },
        {
         "metadata": "{}",
         "name": "NoOfJS",
         "type": "\"integer\""
        },
        {
         "metadata": "{}",
         "name": "NoOfSelfRef",
         "type": "\"integer\""
        },
        {
         "metadata": "{}",
         "name": "NoOfEmptyRef",
         "type": "\"integer\""
        },
        {
         "metadata": "{}",
         "name": "NoOfExternalRef",
         "type": "\"integer\""
        },
        {
         "metadata": "{}",
         "name": "label",
         "type": "\"integer\""
        }
       ],
       "type": "table"
      }
     },
     "output_type": "display_data"
    }
   ],
   "source": [
    "# Recarregar o dataset com o cabeçalho correto\n",
    "phishing_url = spark.read.csv(\"s3://bigdata-rais/projeto/gustavoeso/PhiUSIIL_Phishing_URL_Dataset.csv\", header=True, inferSchema=True)\n",
    "\n",
    "phishing_url.limit(5).display()"
   ]
  },
  {
   "cell_type": "markdown",
   "metadata": {
    "application/vnd.databricks.v1+cell": {
     "cellMetadata": {},
     "inputWidgets": {},
     "nuid": "8085eac3-09d0-4fd3-966d-1dc54773eb8d",
     "showTitle": false,
     "tableResultSettingsMap": {},
     "title": ""
    }
   },
   "source": [
    "Podemos exibir o DataFrame com o comando `display`"
   ]
  },
  {
   "cell_type": "code",
   "execution_count": 0,
   "metadata": {
    "application/vnd.databricks.v1+cell": {
     "cellMetadata": {
      "byteLimit": 2048000,
      "rowLimit": 10000
     },
     "inputWidgets": {},
     "nuid": "6730a92a-5b98-430c-85d9-4d59386851b0",
     "showTitle": false,
     "tableResultSettingsMap": {},
     "title": ""
    }
   },
   "outputs": [
    {
     "output_type": "display_data",
     "data": {
      "text/html": [
       "<style scoped>\n",
       "  .table-result-container {\n",
       "    max-height: 300px;\n",
       "    overflow: auto;\n",
       "  }\n",
       "  table, th, td {\n",
       "    border: 1px solid black;\n",
       "    border-collapse: collapse;\n",
       "  }\n",
       "  th, td {\n",
       "    padding: 5px;\n",
       "  }\n",
       "  th {\n",
       "    text-align: left;\n",
       "  }\n",
       "</style><div class='table-result-container'><table class='table-result'><thead style='background-color: white'><tr><th>FILENAME</th><th>URL</th><th>URLLength</th><th>Domain</th><th>DomainLength</th><th>IsDomainIP</th><th>TLD</th><th>URLSimilarityIndex</th><th>CharContinuationRate</th><th>TLDLegitimateProb</th><th>URLCharProb</th><th>TLDLength</th><th>NoOfSubDomain</th><th>HasObfuscation</th><th>NoOfObfuscatedChar</th><th>ObfuscationRatio</th><th>NoOfLettersInURL</th><th>LetterRatioInURL</th><th>NoOfDegitsInURL</th><th>DegitRatioInURL</th><th>NoOfEqualsInURL</th><th>NoOfQMarkInURL</th><th>NoOfAmpersandInURL</th><th>NoOfOtherSpecialCharsInURL</th><th>SpacialCharRatioInURL</th><th>IsHTTPS</th><th>LineOfCode</th><th>LargestLineLength</th><th>HasTitle</th><th>Title</th><th>DomainTitleMatchScore</th><th>URLTitleMatchScore</th><th>HasFavicon</th><th>Robots</th><th>IsResponsive</th><th>NoOfURLRedirect</th><th>NoOfSelfRedirect</th><th>HasDescription</th><th>NoOfPopup</th><th>NoOfiFrame</th><th>HasExternalFormSubmit</th><th>HasSocialNet</th><th>HasSubmitButton</th><th>HasHiddenFields</th><th>HasPasswordField</th><th>Bank</th><th>Pay</th><th>Crypto</th><th>HasCopyrightInfo</th><th>NoOfImage</th><th>NoOfCSS</th><th>NoOfJS</th><th>NoOfSelfRef</th><th>NoOfEmptyRef</th><th>NoOfExternalRef</th><th>label</th></tr></thead><tbody><tr><td>521848.txt</td><td>https://www.southbankmosaics.com</td><td>31</td><td>www.southbankmosaics.com</td><td>24</td><td>0</td><td>com</td><td>100</td><td>1</td><td>0.5229071</td><td>0.061933179</td><td>3</td><td>1</td><td>0</td><td>0</td><td>0</td><td>18</td><td>0.581</td><td>0</td><td>0</td><td>0</td><td>0</td><td>0</td><td>1</td><td>0.032</td><td>1</td><td>558</td><td>9381</td><td>1</td><td>à¸‚à¹ˆà¸²à¸§à¸ªà¸” à¸‚à¹ˆà¸²à¸§à¸§à¸±à¸™à¸™à¸µà¹‰ à¸‚à¹ˆà¸²à¸§à¸à¸µà¸¬à¸² à¸‚à¹ˆà¸²à¸§à¸šà¸±à¸™à¹€à¸—à¸´à¸‡ à¸­à¸±à¸žà¹€à¸”à¸—à¸ªà¸”à¹ƒà¸«à¸¡à¹ˆà¸—à¸¸à¸à¸§à¸±à¸™ &#8211; à¸‚à¹ˆà¸²à¸§à¸ªà¸” à¸‚à¹ˆà¸²à¸§à¸à¸µà¸¬à¸² à¸‚à¹ˆà¸²à¸§à¸šà¸±à¸™à¹€à¸—à¸´à¸‡ à¸‚à¹ˆà¸²à¸§à¸§à¸±à¸™à¸™à¸µà¹‰ à¸­à¸±à¸›à¹€à¸”à¸•à¸‚à¹ˆà¸²à¸§à¸ªà¸²à¸£à¸£à¸§à¸”à¹€à¸£à¹‡à¸§à¸—à¸±à¸™à¹ƒà¸ˆ à¸žà¸£à¹‰à¸­à¸¡à¸£à¸±à¸šà¸Šà¸¡à¸ªà¸²à¸£à¸°à¸™à¹ˆà¸²à¸£à¸¹à¹‰à¸•à¹ˆà¸²à¸‡à¹† à¹„à¸”à¹‰à¸Ÿà¸£à¸µà¸•à¸¥à¸­à¸” 24à¸Šà¸±à¹ˆà¸§à¹‚à¸¡à¸‡</td><td>0</td><td>0</td><td>0</td><td>1</td><td>1</td><td>0</td><td>0</td><td>0</td><td>0</td><td>1</td><td>0</td><td>0</td><td>1</td><td>1</td><td>0</td><td>1</td><td>0</td><td>0</td><td>1</td><td>34</td><td>20</td><td>28</td><td>119</td><td>0</td><td>124</td><td>1</td></tr><tr><td>31372.txt</td><td>https://www.uni-mainz.de</td><td>23</td><td>www.uni-mainz.de</td><td>16</td><td>0</td><td>de</td><td>100</td><td>0.666666667</td><td>0.0326503</td><td>0.050207214</td><td>2</td><td>1</td><td>0</td><td>0</td><td>0</td><td>9</td><td>0.391</td><td>0</td><td>0</td><td>0</td><td>0</td><td>0</td><td>2</td><td>0.087</td><td>1</td><td>618</td><td>9381</td><td>1</td><td>johannes gutenberg-universitÃ¤t mainz</td><td>55.55555556</td><td>55.55555556</td><td>1</td><td>1</td><td>0</td><td>0</td><td>0</td><td>0</td><td>0</td><td>0</td><td>0</td><td>1</td><td>1</td><td>0</td><td>0</td><td>0</td><td>0</td><td>0</td><td>1</td><td>50</td><td>9</td><td>8</td><td>39</td><td>0</td><td>217</td><td>1</td></tr></tbody></table></div>"
      ]
     },
     "metadata": {
      "application/vnd.databricks.v1+output": {
       "addedWidgets": {},
       "aggData": [],
       "aggError": "",
       "aggOverflow": false,
       "aggSchema": [],
       "aggSeriesLimitReached": false,
       "aggType": "",
       "arguments": {},
       "columnCustomDisplayInfos": {},
       "data": [
        [
         "521848.txt",
         "https://www.southbankmosaics.com",
         31,
         "www.southbankmosaics.com",
         24,
         0,
         "com",
         100,
         1,
         0.5229071,
         0.061933179,
         3,
         1,
         0,
         0,
         0,
         18,
         0.581,
         0,
         0,
         0,
         0,
         0,
         1,
         0.032,
         1,
         558,
         9381,
         1,
         "à¸‚à¹ˆà¸²à¸§à¸ªà¸” à¸‚à¹ˆà¸²à¸§à¸§à¸±à¸™à¸™à¸µà¹‰ à¸‚à¹ˆà¸²à¸§à¸à¸µà¸¬à¸² à¸‚à¹ˆà¸²à¸§à¸šà¸±à¸™à¹€à¸—à¸´à¸‡ à¸­à¸±à¸žà¹€à¸”à¸—à¸ªà¸”à¹ƒà¸«à¸¡à¹ˆà¸—à¸¸à¸à¸§à¸±à¸™ &#8211; à¸‚à¹ˆà¸²à¸§à¸ªà¸” à¸‚à¹ˆà¸²à¸§à¸à¸µà¸¬à¸² à¸‚à¹ˆà¸²à¸§à¸šà¸±à¸™à¹€à¸—à¸´à¸‡ à¸‚à¹ˆà¸²à¸§à¸§à¸±à¸™à¸™à¸µà¹‰ à¸­à¸±à¸›à¹€à¸”à¸•à¸‚à¹ˆà¸²à¸§à¸ªà¸²à¸£à¸£à¸§à¸”à¹€à¸£à¹‡à¸§à¸—à¸±à¸™à¹ƒà¸ˆ à¸žà¸£à¹‰à¸­à¸¡à¸£à¸±à¸šà¸Šà¸¡à¸ªà¸²à¸£à¸°à¸™à¹ˆà¸²à¸£à¸¹à¹‰à¸•à¹ˆà¸²à¸‡à¹† à¹„à¸”à¹‰à¸Ÿà¸£à¸µà¸•à¸¥à¸­à¸” 24à¸Šà¸±à¹ˆà¸§à¹‚à¸¡à¸‡",
         0,
         0,
         0,
         1,
         1,
         0,
         0,
         0,
         0,
         1,
         0,
         0,
         1,
         1,
         0,
         1,
         0,
         0,
         1,
         34,
         20,
         28,
         119,
         0,
         124,
         1
        ],
        [
         "31372.txt",
         "https://www.uni-mainz.de",
         23,
         "www.uni-mainz.de",
         16,
         0,
         "de",
         100,
         0.666666667,
         0.0326503,
         0.050207214,
         2,
         1,
         0,
         0,
         0,
         9,
         0.391,
         0,
         0,
         0,
         0,
         0,
         2,
         0.087,
         1,
         618,
         9381,
         1,
         "johannes gutenberg-universitÃ¤t mainz",
         55.55555556,
         55.55555556,
         1,
         1,
         0,
         0,
         0,
         0,
         0,
         0,
         0,
         1,
         1,
         0,
         0,
         0,
         0,
         0,
         1,
         50,
         9,
         8,
         39,
         0,
         217,
         1
        ]
       ],
       "datasetInfos": [],
       "dbfsResultPath": null,
       "isJsonSchema": true,
       "metadata": {},
       "overflow": false,
       "plotOptions": {
        "customPlotOptions": {},
        "displayType": "table",
        "pivotAggregation": null,
        "pivotColumns": null,
        "xColumns": null,
        "yColumns": null
       },
       "removedWidgets": [],
       "schema": [
        {
         "metadata": "{}",
         "name": "FILENAME",
         "type": "\"string\""
        },
        {
         "metadata": "{}",
         "name": "URL",
         "type": "\"string\""
        },
        {
         "metadata": "{}",
         "name": "URLLength",
         "type": "\"integer\""
        },
        {
         "metadata": "{}",
         "name": "Domain",
         "type": "\"string\""
        },
        {
         "metadata": "{}",
         "name": "DomainLength",
         "type": "\"integer\""
        },
        {
         "metadata": "{}",
         "name": "IsDomainIP",
         "type": "\"integer\""
        },
        {
         "metadata": "{}",
         "name": "TLD",
         "type": "\"string\""
        },
        {
         "metadata": "{}",
         "name": "URLSimilarityIndex",
         "type": "\"double\""
        },
        {
         "metadata": "{}",
         "name": "CharContinuationRate",
         "type": "\"double\""
        },
        {
         "metadata": "{}",
         "name": "TLDLegitimateProb",
         "type": "\"double\""
        },
        {
         "metadata": "{}",
         "name": "URLCharProb",
         "type": "\"double\""
        },
        {
         "metadata": "{}",
         "name": "TLDLength",
         "type": "\"integer\""
        },
        {
         "metadata": "{}",
         "name": "NoOfSubDomain",
         "type": "\"integer\""
        },
        {
         "metadata": "{}",
         "name": "HasObfuscation",
         "type": "\"integer\""
        },
        {
         "metadata": "{}",
         "name": "NoOfObfuscatedChar",
         "type": "\"integer\""
        },
        {
         "metadata": "{}",
         "name": "ObfuscationRatio",
         "type": "\"double\""
        },
        {
         "metadata": "{}",
         "name": "NoOfLettersInURL",
         "type": "\"integer\""
        },
        {
         "metadata": "{}",
         "name": "LetterRatioInURL",
         "type": "\"double\""
        },
        {
         "metadata": "{}",
         "name": "NoOfDegitsInURL",
         "type": "\"integer\""
        },
        {
         "metadata": "{}",
         "name": "DegitRatioInURL",
         "type": "\"double\""
        },
        {
         "metadata": "{}",
         "name": "NoOfEqualsInURL",
         "type": "\"integer\""
        },
        {
         "metadata": "{}",
         "name": "NoOfQMarkInURL",
         "type": "\"integer\""
        },
        {
         "metadata": "{}",
         "name": "NoOfAmpersandInURL",
         "type": "\"integer\""
        },
        {
         "metadata": "{}",
         "name": "NoOfOtherSpecialCharsInURL",
         "type": "\"integer\""
        },
        {
         "metadata": "{}",
         "name": "SpacialCharRatioInURL",
         "type": "\"double\""
        },
        {
         "metadata": "{}",
         "name": "IsHTTPS",
         "type": "\"integer\""
        },
        {
         "metadata": "{}",
         "name": "LineOfCode",
         "type": "\"integer\""
        },
        {
         "metadata": "{}",
         "name": "LargestLineLength",
         "type": "\"integer\""
        },
        {
         "metadata": "{}",
         "name": "HasTitle",
         "type": "\"integer\""
        },
        {
         "metadata": "{}",
         "name": "Title",
         "type": "\"string\""
        },
        {
         "metadata": "{}",
         "name": "DomainTitleMatchScore",
         "type": "\"double\""
        },
        {
         "metadata": "{}",
         "name": "URLTitleMatchScore",
         "type": "\"double\""
        },
        {
         "metadata": "{}",
         "name": "HasFavicon",
         "type": "\"integer\""
        },
        {
         "metadata": "{}",
         "name": "Robots",
         "type": "\"integer\""
        },
        {
         "metadata": "{}",
         "name": "IsResponsive",
         "type": "\"integer\""
        },
        {
         "metadata": "{}",
         "name": "NoOfURLRedirect",
         "type": "\"integer\""
        },
        {
         "metadata": "{}",
         "name": "NoOfSelfRedirect",
         "type": "\"integer\""
        },
        {
         "metadata": "{}",
         "name": "HasDescription",
         "type": "\"integer\""
        },
        {
         "metadata": "{}",
         "name": "NoOfPopup",
         "type": "\"integer\""
        },
        {
         "metadata": "{}",
         "name": "NoOfiFrame",
         "type": "\"integer\""
        },
        {
         "metadata": "{}",
         "name": "HasExternalFormSubmit",
         "type": "\"integer\""
        },
        {
         "metadata": "{}",
         "name": "HasSocialNet",
         "type": "\"integer\""
        },
        {
         "metadata": "{}",
         "name": "HasSubmitButton",
         "type": "\"integer\""
        },
        {
         "metadata": "{}",
         "name": "HasHiddenFields",
         "type": "\"integer\""
        },
        {
         "metadata": "{}",
         "name": "HasPasswordField",
         "type": "\"integer\""
        },
        {
         "metadata": "{}",
         "name": "Bank",
         "type": "\"integer\""
        },
        {
         "metadata": "{}",
         "name": "Pay",
         "type": "\"integer\""
        },
        {
         "metadata": "{}",
         "name": "Crypto",
         "type": "\"integer\""
        },
        {
         "metadata": "{}",
         "name": "HasCopyrightInfo",
         "type": "\"integer\""
        },
        {
         "metadata": "{}",
         "name": "NoOfImage",
         "type": "\"integer\""
        },
        {
         "metadata": "{}",
         "name": "NoOfCSS",
         "type": "\"integer\""
        },
        {
         "metadata": "{}",
         "name": "NoOfJS",
         "type": "\"integer\""
        },
        {
         "metadata": "{}",
         "name": "NoOfSelfRef",
         "type": "\"integer\""
        },
        {
         "metadata": "{}",
         "name": "NoOfEmptyRef",
         "type": "\"integer\""
        },
        {
         "metadata": "{}",
         "name": "NoOfExternalRef",
         "type": "\"integer\""
        },
        {
         "metadata": "{}",
         "name": "label",
         "type": "\"integer\""
        }
       ],
       "type": "table"
      }
     },
     "output_type": "display_data"
    }
   ],
   "source": [
    "display(phishing_url.limit(2))"
   ]
  },
  {
   "cell_type": "code",
   "execution_count": 0,
   "metadata": {
    "application/vnd.databricks.v1+cell": {
     "cellMetadata": {
      "byteLimit": 2048000,
      "rowLimit": 10000
     },
     "inputWidgets": {},
     "nuid": "3a05b895-5638-4d5f-a90a-e84ee31f6f71",
     "showTitle": false,
     "tableResultSettingsMap": {},
     "title": ""
    }
   },
   "outputs": [
    {
     "output_type": "display_data",
     "data": {
      "text/html": [
       "<style scoped>\n",
       "  .table-result-container {\n",
       "    max-height: 300px;\n",
       "    overflow: auto;\n",
       "  }\n",
       "  table, th, td {\n",
       "    border: 1px solid black;\n",
       "    border-collapse: collapse;\n",
       "  }\n",
       "  th, td {\n",
       "    padding: 5px;\n",
       "  }\n",
       "  th {\n",
       "    text-align: left;\n",
       "  }\n",
       "</style><div class='table-result-container'><table class='table-result'><thead style='background-color: white'><tr><th>FILENAME</th><th>URL</th><th>URLLength</th><th>Domain</th><th>DomainLength</th><th>IsDomainIP</th><th>TLD</th><th>URLSimilarityIndex</th><th>CharContinuationRate</th><th>TLDLegitimateProb</th><th>URLCharProb</th><th>TLDLength</th><th>NoOfSubDomain</th><th>HasObfuscation</th><th>NoOfObfuscatedChar</th><th>ObfuscationRatio</th><th>NoOfLettersInURL</th><th>LetterRatioInURL</th><th>NoOfDegitsInURL</th><th>DegitRatioInURL</th><th>NoOfEqualsInURL</th><th>NoOfQMarkInURL</th><th>NoOfAmpersandInURL</th><th>NoOfOtherSpecialCharsInURL</th><th>SpacialCharRatioInURL</th><th>IsHTTPS</th><th>LineOfCode</th><th>LargestLineLength</th><th>HasTitle</th><th>Title</th><th>DomainTitleMatchScore</th><th>URLTitleMatchScore</th><th>HasFavicon</th><th>Robots</th><th>IsResponsive</th><th>NoOfURLRedirect</th><th>NoOfSelfRedirect</th><th>HasDescription</th><th>NoOfPopup</th><th>NoOfiFrame</th><th>HasExternalFormSubmit</th><th>HasSocialNet</th><th>HasSubmitButton</th><th>HasHiddenFields</th><th>HasPasswordField</th><th>Bank</th><th>Pay</th><th>Crypto</th><th>HasCopyrightInfo</th><th>NoOfImage</th><th>NoOfCSS</th><th>NoOfJS</th><th>NoOfSelfRef</th><th>NoOfEmptyRef</th><th>NoOfExternalRef</th><th>label</th></tr></thead><tbody><tr><td>521848.txt</td><td>https://www.southbankmosaics.com</td><td>31</td><td>www.southbankmosaics.com</td><td>24</td><td>0</td><td>com</td><td>100</td><td>1</td><td>0.5229071</td><td>0.061933179</td><td>3</td><td>1</td><td>0</td><td>0</td><td>0</td><td>18</td><td>0.581</td><td>0</td><td>0</td><td>0</td><td>0</td><td>0</td><td>1</td><td>0.032</td><td>1</td><td>558</td><td>9381</td><td>1</td><td>à¸‚à¹ˆà¸²à¸§à¸ªà¸” à¸‚à¹ˆà¸²à¸§à¸§à¸±à¸™à¸™à¸µà¹‰ à¸‚à¹ˆà¸²à¸§à¸à¸µà¸¬à¸² à¸‚à¹ˆà¸²à¸§à¸šà¸±à¸™à¹€à¸—à¸´à¸‡ à¸­à¸±à¸žà¹€à¸”à¸—à¸ªà¸”à¹ƒà¸«à¸¡à¹ˆà¸—à¸¸à¸à¸§à¸±à¸™ &#8211; à¸‚à¹ˆà¸²à¸§à¸ªà¸” à¸‚à¹ˆà¸²à¸§à¸à¸µà¸¬à¸² à¸‚à¹ˆà¸²à¸§à¸šà¸±à¸™à¹€à¸—à¸´à¸‡ à¸‚à¹ˆà¸²à¸§à¸§à¸±à¸™à¸™à¸µà¹‰ à¸­à¸±à¸›à¹€à¸”à¸•à¸‚à¹ˆà¸²à¸§à¸ªà¸²à¸£à¸£à¸§à¸”à¹€à¸£à¹‡à¸§à¸—à¸±à¸™à¹ƒà¸ˆ à¸žà¸£à¹‰à¸­à¸¡à¸£à¸±à¸šà¸Šà¸¡à¸ªà¸²à¸£à¸°à¸™à¹ˆà¸²à¸£à¸¹à¹‰à¸•à¹ˆà¸²à¸‡à¹† à¹„à¸”à¹‰à¸Ÿà¸£à¸µà¸•à¸¥à¸­à¸” 24à¸Šà¸±à¹ˆà¸§à¹‚à¸¡à¸‡</td><td>0</td><td>0</td><td>0</td><td>1</td><td>1</td><td>0</td><td>0</td><td>0</td><td>0</td><td>1</td><td>0</td><td>0</td><td>1</td><td>1</td><td>0</td><td>1</td><td>0</td><td>0</td><td>1</td><td>34</td><td>20</td><td>28</td><td>119</td><td>0</td><td>124</td><td>1</td></tr><tr><td>31372.txt</td><td>https://www.uni-mainz.de</td><td>23</td><td>www.uni-mainz.de</td><td>16</td><td>0</td><td>de</td><td>100</td><td>0.666666667</td><td>0.0326503</td><td>0.050207214</td><td>2</td><td>1</td><td>0</td><td>0</td><td>0</td><td>9</td><td>0.391</td><td>0</td><td>0</td><td>0</td><td>0</td><td>0</td><td>2</td><td>0.087</td><td>1</td><td>618</td><td>9381</td><td>1</td><td>johannes gutenberg-universitÃ¤t mainz</td><td>55.55555556</td><td>55.55555556</td><td>1</td><td>1</td><td>0</td><td>0</td><td>0</td><td>0</td><td>0</td><td>0</td><td>0</td><td>1</td><td>1</td><td>0</td><td>0</td><td>0</td><td>0</td><td>0</td><td>1</td><td>50</td><td>9</td><td>8</td><td>39</td><td>0</td><td>217</td><td>1</td></tr><tr><td>597387.txt</td><td>https://www.voicefmradio.co.uk</td><td>29</td><td>www.voicefmradio.co.uk</td><td>22</td><td>0</td><td>uk</td><td>100</td><td>0.866666667</td><td>0.028555</td><td>0.06412872</td><td>2</td><td>2</td><td>0</td><td>0</td><td>0</td><td>15</td><td>0.517</td><td>0</td><td>0</td><td>0</td><td>0</td><td>0</td><td>2</td><td>0.069</td><td>1</td><td>467</td><td>682</td><td>1</td><td>voice fm southampton</td><td>46.66666667</td><td>46.66666667</td><td>0</td><td>1</td><td>1</td><td>0</td><td>0</td><td>1</td><td>0</td><td>0</td><td>0</td><td>0</td><td>1</td><td>1</td><td>0</td><td>0</td><td>0</td><td>0</td><td>1</td><td>10</td><td>2</td><td>7</td><td>42</td><td>2</td><td>5</td><td>1</td></tr></tbody></table></div>"
      ]
     },
     "metadata": {
      "application/vnd.databricks.v1+output": {
       "addedWidgets": {},
       "aggData": [],
       "aggError": "",
       "aggOverflow": false,
       "aggSchema": [],
       "aggSeriesLimitReached": false,
       "aggType": "",
       "arguments": {},
       "columnCustomDisplayInfos": {},
       "data": [
        [
         "521848.txt",
         "https://www.southbankmosaics.com",
         31,
         "www.southbankmosaics.com",
         24,
         0,
         "com",
         100,
         1,
         0.5229071,
         0.061933179,
         3,
         1,
         0,
         0,
         0,
         18,
         0.581,
         0,
         0,
         0,
         0,
         0,
         1,
         0.032,
         1,
         558,
         9381,
         1,
         "à¸‚à¹ˆà¸²à¸§à¸ªà¸” à¸‚à¹ˆà¸²à¸§à¸§à¸±à¸™à¸™à¸µà¹‰ à¸‚à¹ˆà¸²à¸§à¸à¸µà¸¬à¸² à¸‚à¹ˆà¸²à¸§à¸šà¸±à¸™à¹€à¸—à¸´à¸‡ à¸­à¸±à¸žà¹€à¸”à¸—à¸ªà¸”à¹ƒà¸«à¸¡à¹ˆà¸—à¸¸à¸à¸§à¸±à¸™ &#8211; à¸‚à¹ˆà¸²à¸§à¸ªà¸” à¸‚à¹ˆà¸²à¸§à¸à¸µà¸¬à¸² à¸‚à¹ˆà¸²à¸§à¸šà¸±à¸™à¹€à¸—à¸´à¸‡ à¸‚à¹ˆà¸²à¸§à¸§à¸±à¸™à¸™à¸µà¹‰ à¸­à¸±à¸›à¹€à¸”à¸•à¸‚à¹ˆà¸²à¸§à¸ªà¸²à¸£à¸£à¸§à¸”à¹€à¸£à¹‡à¸§à¸—à¸±à¸™à¹ƒà¸ˆ à¸žà¸£à¹‰à¸­à¸¡à¸£à¸±à¸šà¸Šà¸¡à¸ªà¸²à¸£à¸°à¸™à¹ˆà¸²à¸£à¸¹à¹‰à¸•à¹ˆà¸²à¸‡à¹† à¹„à¸”à¹‰à¸Ÿà¸£à¸µà¸•à¸¥à¸­à¸” 24à¸Šà¸±à¹ˆà¸§à¹‚à¸¡à¸‡",
         0,
         0,
         0,
         1,
         1,
         0,
         0,
         0,
         0,
         1,
         0,
         0,
         1,
         1,
         0,
         1,
         0,
         0,
         1,
         34,
         20,
         28,
         119,
         0,
         124,
         1
        ],
        [
         "31372.txt",
         "https://www.uni-mainz.de",
         23,
         "www.uni-mainz.de",
         16,
         0,
         "de",
         100,
         0.666666667,
         0.0326503,
         0.050207214,
         2,
         1,
         0,
         0,
         0,
         9,
         0.391,
         0,
         0,
         0,
         0,
         0,
         2,
         0.087,
         1,
         618,
         9381,
         1,
         "johannes gutenberg-universitÃ¤t mainz",
         55.55555556,
         55.55555556,
         1,
         1,
         0,
         0,
         0,
         0,
         0,
         0,
         0,
         1,
         1,
         0,
         0,
         0,
         0,
         0,
         1,
         50,
         9,
         8,
         39,
         0,
         217,
         1
        ],
        [
         "597387.txt",
         "https://www.voicefmradio.co.uk",
         29,
         "www.voicefmradio.co.uk",
         22,
         0,
         "uk",
         100,
         0.866666667,
         0.028555,
         0.06412872,
         2,
         2,
         0,
         0,
         0,
         15,
         0.517,
         0,
         0,
         0,
         0,
         0,
         2,
         0.069,
         1,
         467,
         682,
         1,
         "voice fm southampton",
         46.66666667,
         46.66666667,
         0,
         1,
         1,
         0,
         0,
         1,
         0,
         0,
         0,
         0,
         1,
         1,
         0,
         0,
         0,
         0,
         1,
         10,
         2,
         7,
         42,
         2,
         5,
         1
        ]
       ],
       "datasetInfos": [],
       "dbfsResultPath": null,
       "isJsonSchema": true,
       "metadata": {},
       "overflow": false,
       "plotOptions": {
        "customPlotOptions": {},
        "displayType": "table",
        "pivotAggregation": null,
        "pivotColumns": null,
        "xColumns": null,
        "yColumns": null
       },
       "removedWidgets": [],
       "schema": [
        {
         "metadata": "{}",
         "name": "FILENAME",
         "type": "\"string\""
        },
        {
         "metadata": "{}",
         "name": "URL",
         "type": "\"string\""
        },
        {
         "metadata": "{}",
         "name": "URLLength",
         "type": "\"integer\""
        },
        {
         "metadata": "{}",
         "name": "Domain",
         "type": "\"string\""
        },
        {
         "metadata": "{}",
         "name": "DomainLength",
         "type": "\"integer\""
        },
        {
         "metadata": "{}",
         "name": "IsDomainIP",
         "type": "\"integer\""
        },
        {
         "metadata": "{}",
         "name": "TLD",
         "type": "\"string\""
        },
        {
         "metadata": "{}",
         "name": "URLSimilarityIndex",
         "type": "\"double\""
        },
        {
         "metadata": "{}",
         "name": "CharContinuationRate",
         "type": "\"double\""
        },
        {
         "metadata": "{}",
         "name": "TLDLegitimateProb",
         "type": "\"double\""
        },
        {
         "metadata": "{}",
         "name": "URLCharProb",
         "type": "\"double\""
        },
        {
         "metadata": "{}",
         "name": "TLDLength",
         "type": "\"integer\""
        },
        {
         "metadata": "{}",
         "name": "NoOfSubDomain",
         "type": "\"integer\""
        },
        {
         "metadata": "{}",
         "name": "HasObfuscation",
         "type": "\"integer\""
        },
        {
         "metadata": "{}",
         "name": "NoOfObfuscatedChar",
         "type": "\"integer\""
        },
        {
         "metadata": "{}",
         "name": "ObfuscationRatio",
         "type": "\"double\""
        },
        {
         "metadata": "{}",
         "name": "NoOfLettersInURL",
         "type": "\"integer\""
        },
        {
         "metadata": "{}",
         "name": "LetterRatioInURL",
         "type": "\"double\""
        },
        {
         "metadata": "{}",
         "name": "NoOfDegitsInURL",
         "type": "\"integer\""
        },
        {
         "metadata": "{}",
         "name": "DegitRatioInURL",
         "type": "\"double\""
        },
        {
         "metadata": "{}",
         "name": "NoOfEqualsInURL",
         "type": "\"integer\""
        },
        {
         "metadata": "{}",
         "name": "NoOfQMarkInURL",
         "type": "\"integer\""
        },
        {
         "metadata": "{}",
         "name": "NoOfAmpersandInURL",
         "type": "\"integer\""
        },
        {
         "metadata": "{}",
         "name": "NoOfOtherSpecialCharsInURL",
         "type": "\"integer\""
        },
        {
         "metadata": "{}",
         "name": "SpacialCharRatioInURL",
         "type": "\"double\""
        },
        {
         "metadata": "{}",
         "name": "IsHTTPS",
         "type": "\"integer\""
        },
        {
         "metadata": "{}",
         "name": "LineOfCode",
         "type": "\"integer\""
        },
        {
         "metadata": "{}",
         "name": "LargestLineLength",
         "type": "\"integer\""
        },
        {
         "metadata": "{}",
         "name": "HasTitle",
         "type": "\"integer\""
        },
        {
         "metadata": "{}",
         "name": "Title",
         "type": "\"string\""
        },
        {
         "metadata": "{}",
         "name": "DomainTitleMatchScore",
         "type": "\"double\""
        },
        {
         "metadata": "{}",
         "name": "URLTitleMatchScore",
         "type": "\"double\""
        },
        {
         "metadata": "{}",
         "name": "HasFavicon",
         "type": "\"integer\""
        },
        {
         "metadata": "{}",
         "name": "Robots",
         "type": "\"integer\""
        },
        {
         "metadata": "{}",
         "name": "IsResponsive",
         "type": "\"integer\""
        },
        {
         "metadata": "{}",
         "name": "NoOfURLRedirect",
         "type": "\"integer\""
        },
        {
         "metadata": "{}",
         "name": "NoOfSelfRedirect",
         "type": "\"integer\""
        },
        {
         "metadata": "{}",
         "name": "HasDescription",
         "type": "\"integer\""
        },
        {
         "metadata": "{}",
         "name": "NoOfPopup",
         "type": "\"integer\""
        },
        {
         "metadata": "{}",
         "name": "NoOfiFrame",
         "type": "\"integer\""
        },
        {
         "metadata": "{}",
         "name": "HasExternalFormSubmit",
         "type": "\"integer\""
        },
        {
         "metadata": "{}",
         "name": "HasSocialNet",
         "type": "\"integer\""
        },
        {
         "metadata": "{}",
         "name": "HasSubmitButton",
         "type": "\"integer\""
        },
        {
         "metadata": "{}",
         "name": "HasHiddenFields",
         "type": "\"integer\""
        },
        {
         "metadata": "{}",
         "name": "HasPasswordField",
         "type": "\"integer\""
        },
        {
         "metadata": "{}",
         "name": "Bank",
         "type": "\"integer\""
        },
        {
         "metadata": "{}",
         "name": "Pay",
         "type": "\"integer\""
        },
        {
         "metadata": "{}",
         "name": "Crypto",
         "type": "\"integer\""
        },
        {
         "metadata": "{}",
         "name": "HasCopyrightInfo",
         "type": "\"integer\""
        },
        {
         "metadata": "{}",
         "name": "NoOfImage",
         "type": "\"integer\""
        },
        {
         "metadata": "{}",
         "name": "NoOfCSS",
         "type": "\"integer\""
        },
        {
         "metadata": "{}",
         "name": "NoOfJS",
         "type": "\"integer\""
        },
        {
         "metadata": "{}",
         "name": "NoOfSelfRef",
         "type": "\"integer\""
        },
        {
         "metadata": "{}",
         "name": "NoOfEmptyRef",
         "type": "\"integer\""
        },
        {
         "metadata": "{}",
         "name": "NoOfExternalRef",
         "type": "\"integer\""
        },
        {
         "metadata": "{}",
         "name": "label",
         "type": "\"integer\""
        }
       ],
       "type": "table"
      }
     },
     "output_type": "display_data"
    }
   ],
   "source": [
    "phishing_url.limit(3).display()"
   ]
  },
  {
   "cell_type": "markdown",
   "metadata": {
    "application/vnd.databricks.v1+cell": {
     "cellMetadata": {},
     "inputWidgets": {},
     "nuid": "52e5db2c-6b28-4a68-8d5d-42fd8854d1b5",
     "showTitle": false,
     "tableResultSettingsMap": {},
     "title": ""
    }
   },
   "source": [
    "## Exibindo o esquema dos dados\n",
    "\n",
    "Ao realizarmos a ingestão da tabela de receitas, cada variável disponível na tabela foi configurada com um tipo de dados (inteiro, texto, ponto flutuante, etc). Podemos conferir o tipo de cada coluna com o comando `df.printSchema()`"
   ]
  },
  {
   "cell_type": "code",
   "execution_count": 0,
   "metadata": {
    "application/vnd.databricks.v1+cell": {
     "cellMetadata": {
      "byteLimit": 2048000,
      "rowLimit": 10000
     },
     "inputWidgets": {},
     "nuid": "e9a1ee70-f940-49fd-8912-41f20974b315",
     "showTitle": false,
     "tableResultSettingsMap": {},
     "title": ""
    }
   },
   "outputs": [
    {
     "output_type": "stream",
     "name": "stdout",
     "output_type": "stream",
     "text": [
      "root\n |-- FILENAME: string (nullable = true)\n |-- URL: string (nullable = true)\n |-- URLLength: integer (nullable = true)\n |-- Domain: string (nullable = true)\n |-- DomainLength: integer (nullable = true)\n |-- IsDomainIP: integer (nullable = true)\n |-- TLD: string (nullable = true)\n |-- URLSimilarityIndex: double (nullable = true)\n |-- CharContinuationRate: double (nullable = true)\n |-- TLDLegitimateProb: double (nullable = true)\n |-- URLCharProb: double (nullable = true)\n |-- TLDLength: integer (nullable = true)\n |-- NoOfSubDomain: integer (nullable = true)\n |-- HasObfuscation: integer (nullable = true)\n |-- NoOfObfuscatedChar: integer (nullable = true)\n |-- ObfuscationRatio: double (nullable = true)\n |-- NoOfLettersInURL: integer (nullable = true)\n |-- LetterRatioInURL: double (nullable = true)\n |-- NoOfDegitsInURL: integer (nullable = true)\n |-- DegitRatioInURL: double (nullable = true)\n |-- NoOfEqualsInURL: integer (nullable = true)\n |-- NoOfQMarkInURL: integer (nullable = true)\n |-- NoOfAmpersandInURL: integer (nullable = true)\n |-- NoOfOtherSpecialCharsInURL: integer (nullable = true)\n |-- SpacialCharRatioInURL: double (nullable = true)\n |-- IsHTTPS: integer (nullable = true)\n |-- LineOfCode: integer (nullable = true)\n |-- LargestLineLength: integer (nullable = true)\n |-- HasTitle: integer (nullable = true)\n |-- Title: string (nullable = true)\n |-- DomainTitleMatchScore: double (nullable = true)\n |-- URLTitleMatchScore: double (nullable = true)\n |-- HasFavicon: integer (nullable = true)\n |-- Robots: integer (nullable = true)\n |-- IsResponsive: integer (nullable = true)\n |-- NoOfURLRedirect: integer (nullable = true)\n |-- NoOfSelfRedirect: integer (nullable = true)\n |-- HasDescription: integer (nullable = true)\n |-- NoOfPopup: integer (nullable = true)\n |-- NoOfiFrame: integer (nullable = true)\n |-- HasExternalFormSubmit: integer (nullable = true)\n |-- HasSocialNet: integer (nullable = true)\n |-- HasSubmitButton: integer (nullable = true)\n |-- HasHiddenFields: integer (nullable = true)\n |-- HasPasswordField: integer (nullable = true)\n |-- Bank: integer (nullable = true)\n |-- Pay: integer (nullable = true)\n |-- Crypto: integer (nullable = true)\n |-- HasCopyrightInfo: integer (nullable = true)\n |-- NoOfImage: integer (nullable = true)\n |-- NoOfCSS: integer (nullable = true)\n |-- NoOfJS: integer (nullable = true)\n |-- NoOfSelfRef: integer (nullable = true)\n |-- NoOfEmptyRef: integer (nullable = true)\n |-- NoOfExternalRef: integer (nullable = true)\n |-- label: integer (nullable = true)\n\n"
     ]
    }
   ],
   "source": [
    "phishing_url.printSchema()"
   ]
  },
  {
   "cell_type": "markdown",
   "metadata": {
    "application/vnd.databricks.v1+cell": {
     "cellMetadata": {},
     "inputWidgets": {},
     "nuid": "2b14cb6f-a1dc-42af-8fa5-705b40694b1f",
     "showTitle": false,
     "tableResultSettingsMap": {},
     "title": ""
    }
   },
   "source": [
    "## Análise Exploratória da base de dados\n",
    "\n",
    "Nesta etapa da análise exploratória, buscamos entender as características dos dados que compõe nossa amostra de URLs rotulados. A análise exploratória é importante para identificar padrões, tendências e possíveis correlações entre as variáveis, permitindo que possamos melhorar nossa estratégia de modelagem. Exploraremos a distribuição de características que julgamos importantes, como o comprimento das URLs e dos domínios, a taxa de continuidade de caracteres e a probabilidade de legitimidade dos Top-Level Domains. "
   ]
  },
  {
   "cell_type": "code",
   "execution_count": 0,
   "metadata": {
    "application/vnd.databricks.v1+cell": {
     "cellMetadata": {
      "byteLimit": 2048000,
      "rowLimit": 10000
     },
     "inputWidgets": {},
     "nuid": "981433a2-6dcd-43d4-83b4-514bd07ff99f",
     "showTitle": false,
     "tableResultSettingsMap": {},
     "title": ""
    }
   },
   "outputs": [
    {
     "output_type": "stream",
     "name": "stdout",
     "output_type": "stream",
     "text": [
      "235795 linhas e 56 colunas\n"
     ]
    }
   ],
   "source": [
    "print(\"{} linhas e {} colunas\".format(phishing_url.count(), len(phishing_url.columns)))"
   ]
  },
  {
   "cell_type": "code",
   "execution_count": 0,
   "metadata": {
    "application/vnd.databricks.v1+cell": {
     "cellMetadata": {
      "byteLimit": 2048000,
      "rowLimit": 10000
     },
     "inputWidgets": {},
     "nuid": "1f7fe598-3d69-419b-aa73-ce0f4adc6d49",
     "showTitle": false,
     "tableResultSettingsMap": {},
     "title": ""
    }
   },
   "outputs": [],
   "source": [
    "# Remover a coluna FILENAME e escolher apenas as features e o label\n",
    "selected_columns = [\"URLLength\", \"DomainLength\", \"CharContinuationRate\", \"TLDLegitimateProb\", \"label\"]\n",
    "\n",
    "# Criar um novo DataFrame com as colunas selecionadas\n",
    "phishing_data_cleaned = phishing_url.select(selected_columns)"
   ]
  },
  {
   "cell_type": "code",
   "execution_count": 0,
   "metadata": {
    "application/vnd.databricks.v1+cell": {
     "cellMetadata": {
      "byteLimit": 2048000,
      "rowLimit": 10000
     },
     "inputWidgets": {},
     "nuid": "22c50ce0-c0a6-4ade-9496-326353550918",
     "showTitle": false,
     "tableResultSettingsMap": {},
     "title": ""
    }
   },
   "outputs": [
    {
     "output_type": "display_data",
     "data": {
      "image/png": "[encoded data removed]",
      "text/plain": [
       "<Figure size 1500x1000 with 4 Axes>"
      ]
     },
     "metadata": {},
     "output_type": "display_data"
    },
    {
     "output_type": "display_data",
     "data": {
      "image/png": "[encoded data removed]",
      "text/plain": [
       "<Figure size 1500x1000 with 4 Axes>"
      ]
     },
     "metadata": {},
     "output_type": "display_data"
    },
    {
     "output_type": "display_data",
     "data": {
      "image/png": "[encoded data removed]",
      "text/plain": [
       "<Figure size 1000x800 with 2 Axes>"
      ]
     },
     "metadata": {},
     "output_type": "display_data"
    }
   ],
   "source": [
    "import matplotlib.pyplot as plt\n",
    "import seaborn as sns\n",
    "import pandas as pd\n",
    "\n",
    "# Converter o Spark DataFrame para Pandas DataFrame para análise exploratória\n",
    "phishing_df = phishing_data_cleaned.toPandas()\n",
    "\n",
    "# Configurar o estilo do seaborn para os gráficos\n",
    "sns.set(style=\"whitegrid\")\n",
    "\n",
    "# 1. Histogramas para observar a distribuição das features\n",
    "plt.figure(figsize=(15, 10))\n",
    "plt.subplot(2, 2, 1)\n",
    "sns.histplot(phishing_df['URLLength'], kde=True, bins=30, color=\"skyblue\")\n",
    "plt.title(\"Distribuição do Comprimento da URL\")\n",
    "\n",
    "plt.subplot(2, 2, 2)\n",
    "sns.histplot(phishing_df['DomainLength'], kde=True, bins=30, color=\"salmon\")\n",
    "plt.title(\"Distribuição do Comprimento do Domínio\")\n",
    "\n",
    "plt.subplot(2, 2, 3)\n",
    "sns.histplot(phishing_df['CharContinuationRate'], kde=True, bins=30, color=\"lightgreen\")\n",
    "plt.title(\"Distribuição da Taxa de Continuidade de Caracteres\")\n",
    "\n",
    "plt.subplot(2, 2, 4)\n",
    "sns.histplot(phishing_df['TLDLegitimateProb'], kde=True, bins=30, color=\"lightcoral\")\n",
    "plt.title(\"Distribuição da Probabilidade de TLD Legítimo\")\n",
    "plt.tight_layout()\n",
    "plt.show()\n",
    "\n",
    "# 2. Boxplots para comparar URLs legítimas e phishing para cada feature\n",
    "plt.figure(figsize=(15, 10))\n",
    "plt.subplot(2, 2, 1)\n",
    "sns.boxplot(x='label', y='URLLength', data=phishing_df, palette=\"Blues\")\n",
    "plt.title(\"Comparação do Comprimento da URL por Tipo\")\n",
    "\n",
    "plt.subplot(2, 2, 2)\n",
    "sns.boxplot(x='label', y='DomainLength', data=phishing_df, palette=\"Reds\")\n",
    "plt.title(\"Comparação do Comprimento do Domínio por Tipo\")\n",
    "\n",
    "plt.subplot(2, 2, 3)\n",
    "sns.boxplot(x='label', y='CharContinuationRate', data=phishing_df, palette=\"Greens\")\n",
    "plt.title(\"Comparação da Taxa de Continuidade de Caracteres por Tipo\")\n",
    "\n",
    "plt.subplot(2, 2, 4)\n",
    "sns.boxplot(x='label', y='TLDLegitimateProb', data=phishing_df, palette=\"Purples\")\n",
    "plt.title(\"Comparação da Probabilidade de TLD Legítimo por Tipo\")\n",
    "plt.tight_layout()\n",
    "plt.show()\n",
    "\n",
    "# 3. Matriz de Correlação entre as Features\n",
    "plt.figure(figsize=(10, 8))\n",
    "correlation = phishing_df[['URLLength', 'DomainLength', 'CharContinuationRate', 'TLDLegitimateProb']].corr()\n",
    "sns.heatmap(correlation, annot=True, cmap=\"coolwarm\", vmin=-1, vmax=1)\n",
    "plt.title(\"Matriz de Correlação das Features\")\n",
    "plt.show()\n"
   ]
  },
  {
   "cell_type": "markdown",
   "metadata": {
    "application/vnd.databricks.v1+cell": {
     "cellMetadata": {},
     "inputWidgets": {},
     "nuid": "7e8ed787-e1f6-4fcc-8064-8cb3b59e68e5",
     "showTitle": false,
     "tableResultSettingsMap": {},
     "title": ""
    }
   },
   "source": [
    "# Com base nos gráficos gerados, podemos observar diferentes aspectos das variáveis em nosso conjunto de dados:\n",
    "\n",
    "### 1. Distribuição das Features Individuais:\n",
    "\n",
    "- **Comprimento da URL:** A maioria das URLs tem comprimento relativamente curto, mas existem outliers com comprimentos significativamente maiores. \n",
    "\n",
    "- **Comprimento do Domínio:** Observamos que a maior parte dos domínios tem um comprimento médio, com uma queda acentuada conforme o comprimento aumenta. \n",
    "\n",
    "- **Taxa de Continuidade de Caracteres:** A taxa de continuidade de caracteres representa a frequência de padrões sequenciais na URL. \n",
    "\n",
    "- **Probabilidade de TLD Legítimo:** Esta métrica indica a probabilidade do TLD ser associado a domínios legítimos. \n",
    "\n",
    "### 2. Comparação das Features entre URLs Legítimos e de Phishing. Os gráficos de boxplot comparam URLs legítimos e de phishing em relação a cada feature:\n",
    "\n",
    "- **Comprimento da URL:** URLs de phishing tendem a ser mais longas, enquanto URLs legítimas permanecem em um intervalo mais curto.\n",
    "\n",
    "- **Comprimento do Domínio:** Domínios de phishing apresentam uma maior variação no comprimento em comparação com domínios legítimos.\n",
    "\n",
    "- **Taxa de Continuidade de Caracteres:** URLs de phishing apresentam uma taxa de continuidade de caracteres visivelmente mais alta, sugerindo que essa característica pode ser um indicador importante na detecção de phishing.\n",
    "\n",
    "- **Probabilidade de TLD Legítimo:** URLs legítimas possuem uma probabilidade mais alta de TLD legítimo, indicando que essa feature pode ajudar na identificação de domínios suspeitos.\n",
    "\n",
    "### 3. Matriz de Correlação das Features. A matriz de correlação revela a relação entre as variáveis do conjunto de dados:\n",
    "\n",
    "- **URLLength** e **DomainLength** têm uma correlação moderada positiva, sugerindo que URLs mais longas tendem a ter domínios mais longos.\n",
    "\n",
    "- **CharContinuationRat** e **DomainLength** apresentam uma correlação negativa, indicando que domínios mais longos têm menos continuidade de caracteres.\n",
    "\n",
    "- **TLDLegitimateProb** tem baixa correlação com outras variáveis, o que significa que essa feature pode trazer informações exclusivas e complementares ao modelo."
   ]
  },
  {
   "cell_type": "markdown",
   "metadata": {
    "application/vnd.databricks.v1+cell": {
     "cellMetadata": {},
     "inputWidgets": {},
     "nuid": "f8d61a7f-f086-4789-9546-02022b9cf2a0",
     "showTitle": false,
     "tableResultSettingsMap": {},
     "title": ""
    }
   },
   "source": [
    "## Passo 1: Preparação dos Dados e Seleção das Features"
   ]
  },
  {
   "cell_type": "code",
   "execution_count": 0,
   "metadata": {
    "application/vnd.databricks.v1+cell": {
     "cellMetadata": {
      "byteLimit": 2048000,
      "rowLimit": 10000
     },
     "inputWidgets": {},
     "nuid": "6f7f7ab4-5837-4a60-abe1-f4c2e17101de",
     "showTitle": false,
     "tableResultSettingsMap": {},
     "title": ""
    }
   },
   "outputs": [
    {
     "output_type": "stream",
     "name": "stdout",
     "output_type": "stream",
     "text": [
      "+---------+------------+--------------------+-----------------+-----+\n|URLLength|DomainLength|CharContinuationRate|TLDLegitimateProb|label|\n+---------+------------+--------------------+-----------------+-----+\n|       31|          24|                 1.0|        0.5229071|    1|\n|       23|          16|         0.666666667|        0.0326503|    1|\n|       29|          22|         0.866666667|         0.028555|    1|\n|       26|          19|                 1.0|        0.5229071|    1|\n|       33|          26|                 1.0|        0.0799628|    1|\n+---------+------------+--------------------+-----------------+-----+\nonly showing top 5 rows\n\n"
     ]
    }
   ],
   "source": [
    "# Selecionar as colunas necessárias\n",
    "# Remover a coluna FILENAME e escolher apenas as features e o label\n",
    "selected_columns = [\"URLLength\", \"DomainLength\", \"CharContinuationRate\", \"TLDLegitimateProb\", \"label\"]\n",
    "\n",
    "# Criar um novo DataFrame com as colunas selecionadas\n",
    "phishing_data_cleaned = phishing_url.select(selected_columns)\n",
    "\n",
    "# Exibir algumas linhas para ver o estado atual dos dados\n",
    "phishing_data_cleaned.show(5)\n"
   ]
  },
  {
   "cell_type": "markdown",
   "metadata": {
    "application/vnd.databricks.v1+cell": {
     "cellMetadata": {},
     "inputWidgets": {},
     "nuid": "d2356946-6cb4-402c-a2f3-25ab6a47decc",
     "showTitle": false,
     "tableResultSettingsMap": {},
     "title": ""
    }
   },
   "source": [
    "## Passo 2: Montar o Vetor de Features"
   ]
  },
  {
   "cell_type": "code",
   "execution_count": 0,
   "metadata": {
    "application/vnd.databricks.v1+cell": {
     "cellMetadata": {
      "byteLimit": 2048000,
      "rowLimit": 10000
     },
     "inputWidgets": {},
     "nuid": "72c8569b-bc70-4552-9011-d2da596dd945",
     "showTitle": false,
     "tableResultSettingsMap": {},
     "title": ""
    }
   },
   "outputs": [
    {
     "output_type": "stream",
     "name": "stdout",
     "output_type": "stream",
     "text": [
      "+--------------------+-----+\n|            features|label|\n+--------------------+-----+\n|[31.0,24.0,1.0,0....|    1|\n|[23.0,16.0,0.6666...|    1|\n|[29.0,22.0,0.8666...|    1|\n|[26.0,19.0,1.0,0....|    1|\n|[33.0,26.0,1.0,0....|    1|\n+--------------------+-----+\nonly showing top 5 rows\n\n"
     ]
    }
   ],
   "source": [
    "# Lista das features a serem combinadas no vetor\n",
    "feature_cols = [\"URLLength\", \"DomainLength\", \"CharContinuationRate\", \"TLDLegitimateProb\"]\n",
    "\n",
    "# Configurar o VectorAssembler para transformar as features em uma coluna de vetor chamada \"features\"\n",
    "assembler = VectorAssembler(inputCols=feature_cols, outputCol=\"features\")\n",
    "\n",
    "# Aplicar o assembler aos dados\n",
    "phishing_data_final = assembler.transform(phishing_data_cleaned)\n",
    "\n",
    "# Exibir as primeiras linhas para ver como ficou a coluna \"features\"\n",
    "phishing_data_final.select(\"features\", \"label\").show(5)\n"
   ]
  },
  {
   "cell_type": "markdown",
   "metadata": {
    "application/vnd.databricks.v1+cell": {
     "cellMetadata": {},
     "inputWidgets": {},
     "nuid": "2c21a1ec-20aa-4302-9833-9cf71e7d65f2",
     "showTitle": false,
     "tableResultSettingsMap": {},
     "title": ""
    }
   },
   "source": [
    "## Passo 3: Dividir os Dados em Conjuntos de Treino e Teste"
   ]
  },
  {
   "cell_type": "code",
   "execution_count": 0,
   "metadata": {
    "application/vnd.databricks.v1+cell": {
     "cellMetadata": {
      "byteLimit": 2048000,
      "rowLimit": 10000
     },
     "inputWidgets": {},
     "nuid": "4f8b22f6-54a7-4399-8aa7-82c5f9db099e",
     "showTitle": false,
     "tableResultSettingsMap": {},
     "title": ""
    }
   },
   "outputs": [
    {
     "output_type": "stream",
     "name": "stderr",
     "output_type": "stream",
     "text": [
      "2024/10/31 20:02:11 INFO mlflow.spark: Inferring pip requirements by reloading the logged model from the databricks artifact repository, which can be time-consuming. To speed up, explicitly specify the conda_env or pip_requirements when calling log_model().\n2024/10/31 20:03:06 WARNING mlflow.utils.environment: Encountered an unexpected error while inferring pip requirements (model URI: dbfs:/databricks/mlflow-tracking/729780563443402/b1d2c2740a3246a5808ca37badd4100e/artifacts/logistic_regression_model/sparkml, flavor: spark). Fall back to return ['pyspark==3.5.0']. Set logging level to DEBUG to see the full traceback. \n/databricks/python/lib/python3.11/site-packages/_distutils_hack/__init__.py:33: UserWarning: Setuptools is replacing distutils.\n  warnings.warn(\"Setuptools is replacing distutils.\")\n2024/10/31 20:03:43 INFO mlflow.spark: Inferring pip requirements by reloading the logged model from the databricks artifact repository, which can be time-consuming. To speed up, explicitly specify the conda_env or pip_requirements when calling log_model().\n2024/10/31 20:04:24 WARNING mlflow.utils.environment: Encountered an unexpected error while inferring pip requirements (model URI: dbfs:/databricks/mlflow-tracking/729780563443402/b1d2c2740a3246a5808ca37badd4100e/artifacts/decision_tree_model/sparkml, flavor: spark). Fall back to return ['pyspark==3.5.0']. Set logging level to DEBUG to see the full traceback. \n"
     ]
    },
    {
     "output_type": "stream",
     "name": "stdout",
     "output_type": "stream",
     "text": [
      "Modelos de Regressão Logística e Árvore de Decisão treinados e registrados com MLflow\n"
     ]
    }
   ],
   "source": [
    "# Dividir os dados em 80% para treino e 20% para teste (caso ainda não tenha rodado antes)\n",
    "train_data, test_data = phishing_data_final.randomSplit([0.8, 0.2], seed=42)\n",
    "\n",
    "# Iniciar um experimento com MLflow\n",
    "with mlflow.start_run():\n",
    "    # Registrar a divisão de dados como um parâmetro no MLflow\n",
    "    mlflow.log_param(\"train_test_split\", \"80/20\")\n",
    "    \n",
    "    # Configurar e treinar o modelo de Regressão Logística\n",
    "    lr = LogisticRegression(featuresCol=\"features\", labelCol=\"label\")\n",
    "    lr_model = lr.fit(train_data)\n",
    "    mlflow.spark.log_model(lr_model, \"logistic_regression_model\")\n",
    "    \n",
    "    # Configurar e treinar o modelo de Árvore de Decisão\n",
    "    dt = DecisionTreeClassifier(featuresCol=\"features\", labelCol=\"label\")\n",
    "    dt_model = dt.fit(train_data)\n",
    "    mlflow.spark.log_model(dt_model, \"decision_tree_model\")\n",
    "    \n",
    "    print(\"Modelos de Regressão Logística e Árvore de Decisão treinados e registrados com MLflow\")\n"
   ]
  },
  {
   "cell_type": "markdown",
   "metadata": {
    "application/vnd.databricks.v1+cell": {
     "cellMetadata": {},
     "inputWidgets": {},
     "nuid": "be1a0cf9-285b-4aea-a8d2-a9f5f86bad78",
     "showTitle": false,
     "tableResultSettingsMap": {},
     "title": ""
    }
   },
   "source": [
    "## Passo 4: Avaliação dos Modelos"
   ]
  },
  {
   "cell_type": "code",
   "execution_count": 0,
   "metadata": {
    "application/vnd.databricks.v1+cell": {
     "cellMetadata": {
      "byteLimit": 2048000,
      "rowLimit": 10000
     },
     "inputWidgets": {},
     "nuid": "830b88cf-2984-4669-90e7-1a929d8db22f",
     "showTitle": false,
     "tableResultSettingsMap": {},
     "title": ""
    }
   },
   "outputs": [
    {
     "output_type": "stream",
     "name": "stdout",
     "output_type": "stream",
     "text": [
      "AUC do modelo de Regressão Logística: 0.7668067581259318\nAUC do modelo de Árvore de Decisão: 0.8378759302420158\n"
     ]
    }
   ],
   "source": [
    "# Configurar o avaliador para o problema de classificação binária com a métrica areaUnderROC\n",
    "evaluator = BinaryClassificationEvaluator(labelCol=\"label\", rawPredictionCol=\"rawPrediction\", metricName=\"areaUnderROC\")\n",
    "\n",
    "# Avaliar o modelo de Regressão Logística\n",
    "lr_predictions = lr_model.transform(test_data)\n",
    "lr_auc = evaluator.evaluate(lr_predictions)\n",
    "mlflow.log_metric(\"logistic_regression_auc\", lr_auc)\n",
    "print(f\"AUC do modelo de Regressão Logística: {lr_auc}\")\n",
    "\n",
    "# Avaliar o modelo de Árvore de Decisão\n",
    "dt_predictions = dt_model.transform(test_data)\n",
    "dt_auc = evaluator.evaluate(dt_predictions)\n",
    "mlflow.log_metric(\"decision_tree_auc\", dt_auc)\n",
    "print(f\"AUC do modelo de Árvore de Decisão: {dt_auc}\")\n",
    "\n",
    "# Fim da execução no MLflow\n",
    "mlflow.end_run()\n"
   ]
  },
  {
   "cell_type": "markdown",
   "metadata": {
    "application/vnd.databricks.v1+cell": {
     "cellMetadata": {},
     "inputWidgets": {},
     "nuid": "9e9ed1b4-17f5-41e2-8ae4-efee62514a4e",
     "showTitle": false,
     "tableResultSettingsMap": {},
     "title": ""
    }
   },
   "source": [
    "## Passo 4.1: Avaliando mais modelos\n",
    "\n",
    "#### incluindo:\n",
    "1. Random Forest\n",
    "2. Gradient-Boosted Trees (GBT)"
   ]
  },
  {
   "cell_type": "code",
   "execution_count": 0,
   "metadata": {
    "application/vnd.databricks.v1+cell": {
     "cellMetadata": {
      "byteLimit": 2048000,
      "rowLimit": 10000
     },
     "inputWidgets": {},
     "nuid": "efa82551-8997-49df-b026-567798f0fb9d",
     "showTitle": false,
     "tableResultSettingsMap": {},
     "title": ""
    }
   },
   "outputs": [
    {
     "output_type": "stream",
     "name": "stderr",
     "output_type": "stream",
     "text": [
      "2024/10/31 20:05:31 INFO mlflow.spark: Inferring pip requirements by reloading the logged model from the databricks artifact repository, which can be time-consuming. To speed up, explicitly specify the conda_env or pip_requirements when calling log_model().\n2024/10/31 20:06:11 WARNING mlflow.utils.environment: Encountered an unexpected error while inferring pip requirements (model URI: dbfs:/databricks/mlflow-tracking/729780563443402/2a1112f8c4b84637a0646acc0563b652/artifacts/random_forest_model/sparkml, flavor: spark). Fall back to return ['pyspark==3.5.0']. Set logging level to DEBUG to see the full traceback. \n"
     ]
    },
    {
     "output_type": "stream",
     "name": "stdout",
     "output_type": "stream",
     "text": [
      "AUC do modelo Random Forest: 0.8831511550147081\n"
     ]
    },
    {
     "output_type": "stream",
     "name": "stderr",
     "output_type": "stream",
     "text": [
      "2024/10/31 20:09:04 INFO mlflow.spark: Inferring pip requirements by reloading the logged model from the databricks artifact repository, which can be time-consuming. To speed up, explicitly specify the conda_env or pip_requirements when calling log_model().\n2024/10/31 20:09:45 WARNING mlflow.utils.environment: Encountered an unexpected error while inferring pip requirements (model URI: dbfs:/databricks/mlflow-tracking/729780563443402/2a1112f8c4b84637a0646acc0563b652/artifacts/gradient_boosted_trees_model/sparkml, flavor: spark). Fall back to return ['pyspark==3.5.0']. Set logging level to DEBUG to see the full traceback. \n"
     ]
    },
    {
     "output_type": "stream",
     "name": "stdout",
     "output_type": "stream",
     "text": [
      "AUC do modelo Gradient-Boosted Trees: 0.9696015209295391\n"
     ]
    }
   ],
   "source": [
    "# Iniciar um novo experimento com MLflow\n",
    "with mlflow.start_run():\n",
    "    # Random Forest\n",
    "    rf = RandomForestClassifier(featuresCol=\"features\", labelCol=\"label\", numTrees=100)\n",
    "    rf_model = rf.fit(train_data)\n",
    "    rf_predictions = rf_model.transform(test_data)\n",
    "    rf_auc = evaluator.evaluate(rf_predictions)\n",
    "    mlflow.log_metric(\"random_forest_auc\", rf_auc)\n",
    "    mlflow.spark.log_model(rf_model, \"random_forest_model\")\n",
    "    print(f\"AUC do modelo Random Forest: {rf_auc}\")\n",
    "    \n",
    "    # Gradient-Boosted Trees\n",
    "    gbt = GBTClassifier(featuresCol=\"features\", labelCol=\"label\", maxIter=100)\n",
    "    gbt_model = gbt.fit(train_data)\n",
    "    gbt_predictions = gbt_model.transform(test_data)\n",
    "    gbt_auc = evaluator.evaluate(gbt_predictions)\n",
    "    mlflow.log_metric(\"gradient_boosted_trees_auc\", gbt_auc)\n",
    "    mlflow.spark.log_model(gbt_model, \"gradient_boosted_trees_model\")\n",
    "    print(f\"AUC do modelo Gradient-Boosted Trees: {gbt_auc}\")\n",
    "\n",
    "# Fim da execução do MLflow\n",
    "mlflow.end_run()\n"
   ]
  },
  {
   "cell_type": "markdown",
   "metadata": {
    "application/vnd.databricks.v1+cell": {
     "cellMetadata": {},
     "inputWidgets": {},
     "nuid": "dd559545-9733-4418-9794-198240642e85",
     "showTitle": false,
     "tableResultSettingsMap": {},
     "title": ""
    }
   },
   "source": [
    "## Passo 4.2: Gráficos de desempenho"
   ]
  },
  {
   "cell_type": "markdown",
   "metadata": {
    "application/vnd.databricks.v1+cell": {
     "cellMetadata": {},
     "inputWidgets": {},
     "nuid": "80838b81-73f3-4b0b-b75b-350eedaac825",
     "showTitle": false,
     "tableResultSettingsMap": {},
     "title": ""
    }
   },
   "source": [
    "### Curva ROC"
   ]
  },
  {
   "cell_type": "code",
   "execution_count": 0,
   "metadata": {
    "application/vnd.databricks.v1+cell": {
     "cellMetadata": {
      "byteLimit": 2048000,
      "rowLimit": 10000
     },
     "inputWidgets": {},
     "nuid": "716e2f3f-de42-4be3-89c0-e017ce2dcd47",
     "showTitle": false,
     "tableResultSettingsMap": {},
     "title": ""
    }
   },
   "outputs": [
    {
     "output_type": "display_data",
     "data": {
      "image/png": "[encoded data removed]",
      "text/plain": [
       "<Figure size 800x600 with 1 Axes>"
      ]
     },
     "metadata": {},
     "output_type": "display_data"
    }
   ],
   "source": [
    "# Converter as previsões do GBT para um DataFrame Pandas\n",
    "gbt_predictions_pd = gbt_predictions.select(\"label\", \"probability\").toPandas()\n",
    "\n",
    "# Extrair as probabilidades para a classe phishing (índice [0] da probabilidade)\n",
    "y_true = gbt_predictions_pd[\"label\"]\n",
    "y_score = gbt_predictions_pd[\"probability\"].apply(lambda x: x[0])\n",
    "\n",
    "# Calcular a curva ROC e a AUC\n",
    "fpr, tpr, _ = roc_curve(y_true, y_score, pos_label=0)\n",
    "roc_auc = auc(fpr, tpr)\n",
    "\n",
    "# Plotar a Curva ROC\n",
    "plt.figure(figsize=(8, 6))\n",
    "plt.plot(fpr, tpr, color=\"darkorange\", lw=2, label=f\"Curva ROC (AUC = {roc_auc:.2f})\")\n",
    "plt.plot([0, 1], [0, 1], color=\"navy\", lw=2, linestyle=\"--\")\n",
    "plt.xlim([0.0, 1.0])\n",
    "plt.ylim([0.0, 1.05])\n",
    "plt.xlabel(\"Taxa de Falsos Positivos\")\n",
    "plt.ylabel(\"Taxa de Verdadeiros Positivos\")\n",
    "plt.title(\"Curva ROC - Gradient-Boosted Trees\")\n",
    "plt.legend(loc=\"lower right\")\n",
    "plt.show()"
   ]
  },
  {
   "cell_type": "markdown",
   "metadata": {
    "application/vnd.databricks.v1+cell": {
     "cellMetadata": {},
     "inputWidgets": {},
     "nuid": "8ac9da5c-9af8-4d9b-90ae-25a875633d33",
     "showTitle": false,
     "tableResultSettingsMap": {},
     "title": ""
    }
   },
   "source": [
    "### Matriz de confusão"
   ]
  },
  {
   "cell_type": "code",
   "execution_count": 0,
   "metadata": {
    "application/vnd.databricks.v1+cell": {
     "cellMetadata": {
      "byteLimit": 2048000,
      "rowLimit": 10000
     },
     "inputWidgets": {},
     "nuid": "95d25d43-67b2-4797-8751-d8d4df4d7e31",
     "showTitle": false,
     "tableResultSettingsMap": {},
     "title": ""
    }
   },
   "outputs": [
    {
     "output_type": "display_data",
     "data": {
      "image/png": "[encoded data removed]",
      "text/plain": [
       "<Figure size 800x600 with 1 Axes>"
      ]
     },
     "metadata": {},
     "output_type": "display_data"
    }
   ],
   "source": [
    "# Gerar a matriz de confusão\n",
    "y_pred = gbt_predictions_pd[\"probability\"].apply(lambda x: 0 if x[0] > 0.5 else 1)\n",
    "conf_matrix = confusion_matrix(y_true, y_pred)\n",
    "\n",
    "# Plotar a Matriz de Confusão\n",
    "plt.figure(figsize=(8, 6))\n",
    "sns.heatmap(conf_matrix, annot=True, fmt=\"d\", cmap=\"Blues\", cbar=False,\n",
    "            xticklabels=[\"Phishing\", \"Legítima\"], yticklabels=[\"Phishing\", \"Legítima\"])\n",
    "plt.xlabel(\"Predito\")\n",
    "plt.ylabel(\"Real\")\n",
    "plt.title(\"Matriz de Confusão - Gradient-Boosted Trees\")\n",
    "plt.show()"
   ]
  },
  {
   "cell_type": "markdown",
   "metadata": {
    "application/vnd.databricks.v1+cell": {
     "cellMetadata": {},
     "inputWidgets": {},
     "nuid": "d74c1ba7-9381-47a2-a429-9e4fe3f23130",
     "showTitle": false,
     "tableResultSettingsMap": {},
     "title": ""
    }
   },
   "source": [
    "# Análise dos resultados do modelo\n",
    "\n",
    "1. **Curva ROC (AUC = 0,97):**\n",
    "    \n",
    "    A Curva ROC (Receiver Operating Characteristic) é uma ferramenta que ilustra o desempenho do modelo em relação a sua capacidade de diferenciar entre classes positivas e negativas, neste caso, URLs de phishing e legítimos. A área sob a curva (AUC) é um indicador chave: quanto mais próximo de 1, melhor o desempenho do modelo.\n",
    "\n",
    "    Com uma AUC de 0,97, o modelo Gradient-Boosted Trees (GBT) demonstra uma alta eficiência em classificar URLs como phishing ou legítimos. A curva que se aproxima do canto superior esquerdo reforça que o modelo tem uma taxa alta de verdadeiros positivos e uma baixa taxa de falsos positivos, confirmando sua capacidade de diferenciação e minimizando os erros.\n",
    "\n",
    "2. **Matriz de Confusão:**\n",
    "\n",
    "    A matriz de confusão permite visualizar o número de previsões corretas e incorretas realizadas pelo modelo. Os valores são divididos entre verdadeiros positivos (URLs de phishing corretamente classificados), falsos negativos (URLs de phishing não detectados), verdadeiros negativos (URLs legítimos corretamente identificados) e falsos positivos (URLs legítimos classificados incorretamente como phishing).\n",
    "\n",
    "    - Verdadeiros Positivos (Phishing Detectados): 17.838 URLs, quantidade significativa de detecções corretas de URLs maliciosos.\n",
    "\n",
    "    - Falsos Negativos (Phishing Não Detectado): 2.264 URLs, número relativamente baixo de URLs de phishing que passaram despercebidos.\n",
    "\n",
    "    - Verdadeiros Negativos (Legítima Detectada): 26.505 URLs, demonstrando uma forte capacidade do modelo em reconhecer URLs legítimos.\n",
    "\n",
    "    - Falsos Positivos (Legítima Classificada como Phishing): 586 URLs, valor baixo que indica que o modelo não está gerando muitos alertas falsos para URLs legítimos.\n",
    "\n",
    "A matriz de confusão mostra que o modelo possui uma taxa baixa tanto de falsos positivos quanto de falsos negativos, o que sugere que ele é eficiente em identificar corretamente tanto URLs de phishing quanto URLs legítimos. Esse desempenho balanceado indica que o modelo é confiável para uso prático, ajudando a reduzir a exposição dos usuários a sites maliciosos.\n"
   ]
  },
  {
   "cell_type": "code",
   "execution_count": 0,
   "metadata": {
    "application/vnd.databricks.v1+cell": {
     "cellMetadata": {
      "byteLimit": 2048000,
      "rowLimit": 10000
     },
     "inputWidgets": {},
     "nuid": "ec2e0555-24bf-44a1-9697-d8be2f9d7ad2",
     "showTitle": false,
     "tableResultSettingsMap": {},
     "title": ""
    }
   },
   "outputs": [
    {
     "output_type": "stream",
     "name": "stdout",
     "output_type": "stream",
     "text": [
      "Precisão (Precision) do GBT: 0.9681936604429006\nSensibilidade (Recall) do GBT: 0.8873743906078997\nF1-Score do GBT: 0.9392015816934676\n"
     ]
    }
   ],
   "source": [
    "# Previsões do GBT no conjunto de teste\n",
    "gbt_predictions = gbt_model.transform(test_data)\n",
    "\n",
    "# Configuração de avaliadores para cada métrica\n",
    "precision_evaluator = MulticlassClassificationEvaluator(labelCol=\"label\", predictionCol=\"prediction\", metricName=\"precisionByLabel\")\n",
    "recall_evaluator = MulticlassClassificationEvaluator(labelCol=\"label\", predictionCol=\"prediction\", metricName=\"recallByLabel\")\n",
    "f1_evaluator = MulticlassClassificationEvaluator(labelCol=\"label\", predictionCol=\"prediction\", metricName=\"f1\")\n",
    "\n",
    "# Calcular precisão, recall e F1-Score para a classe de phishing (label = 0)\n",
    "precision = precision_evaluator.evaluate(gbt_predictions, {precision_evaluator.metricLabel: 0})\n",
    "recall = recall_evaluator.evaluate(gbt_predictions, {recall_evaluator.metricLabel: 0})\n",
    "f1_score = f1_evaluator.evaluate(gbt_predictions)\n",
    "\n",
    "# Registrar métricas no MLflow\n",
    "mlflow.log_metric(\"gbt_precision\", precision)\n",
    "mlflow.log_metric(\"gbt_recall\", recall)\n",
    "mlflow.log_metric(\"gbt_f1_score\", f1_score)\n",
    "\n",
    "# Exibir as métricas\n",
    "print(f\"Precisão (Precision) do GBT: {precision}\")\n",
    "print(f\"Sensibilidade (Recall) do GBT: {recall}\")\n",
    "print(f\"F1-Score do GBT: {f1_score}\")\n",
    "\n",
    "# Fim da execução do MLflow\n",
    "mlflow.end_run()\n"
   ]
  },
  {
   "cell_type": "code",
   "execution_count": 0,
   "metadata": {
    "application/vnd.databricks.v1+cell": {
     "cellMetadata": {
      "byteLimit": 2048000,
      "rowLimit": 10000
     },
     "inputWidgets": {},
     "nuid": "06eff206-8710-4c2d-b6eb-b8a4f93bbd32",
     "showTitle": false,
     "tableResultSettingsMap": {},
     "title": ""
    }
   },
   "outputs": [
    {
     "output_type": "stream",
     "name": "stdout",
     "output_type": "stream",
     "text": [
      "Distribuição das classes no conjunto de teste:\n   label  count  percentage\n0      1  27091     57.4047\n1      0  20102     42.5953\n"
     ]
    }
   ],
   "source": [
    "# Contagem de cada classe no conjunto de teste\n",
    "test_class_distribution = test_data.groupBy(\"label\").count().toPandas()\n",
    "total_test = test_class_distribution[\"count\"].sum()\n",
    "\n",
    "# Calcular a proporção de cada classe\n",
    "test_class_distribution[\"percentage\"] = (test_class_distribution[\"count\"] / total_test) * 100\n",
    "\n",
    "# Exibir a distribuição das classes no conjunto de teste\n",
    "print(\"Distribuição das classes no conjunto de teste:\")\n",
    "print(test_class_distribution)"
   ]
  },
  {
   "cell_type": "markdown",
   "metadata": {
    "application/vnd.databricks.v1+cell": {
     "cellMetadata": {},
     "inputWidgets": {},
     "nuid": "e60850d3-4f14-4268-aa7b-8e40f7c1a87b",
     "showTitle": false,
     "tableResultSettingsMap": {},
     "title": ""
    }
   },
   "source": [
    "### Passo 5: Avaliação Detalhada das Métricas do Modelo GBT\n",
    "\n",
    "O modelo de Gradient-Boosted Trees (GBT) apresentou um excelente desempenho, com uma AUC de aproximadamente 97%, sugerindo que ele é altamente eficaz na detecção de URLs de phishing. Nesta seção, exploramos métricas adicionais para fortalecer a análise e garantir que o modelo está realmente capturando padrões significativos nos dados.\n",
    "\n",
    "#### Métricas Utilizadas e seus Significados\n",
    "\n",
    "1. **Precisão (Precision)**: Representa a proporção de URLs classificadas como phishing que são realmente phishing. É uma medida importante para avaliar a quantidade de falsos positivos, ou seja, URLs legítimas incorretamente classificadas como phishing.\n",
    "2. **Sensibilidade (Recall)**: Indica a proporção de URLs de phishing corretamente identificadas pelo modelo. Essa métrica é crucial para minimizar falsos negativos, pois captura o percentual de URLs de phishing que foram devidamente detectadas.\n",
    "3. **F1-Score**: A média harmônica entre precisão e sensibilidade. É uma métrica equilibrada que considera tanto a capacidade do modelo de identificar corretamente URLs de phishing (recall) quanto de evitar classificações incorretas de URLs legítimas (precision).\n",
    "\n",
    "#### Análise das Métricas\n",
    "\n",
    "- **Precisão (0.9682)**: Aproximadamente 96.8% das URLs classificadas pelo modelo como phishing são realmente URLs de phishing. Isso demonstra que o modelo comete poucos erros ao rotular URLs legítimas como phishing, o que é crucial para evitar alarmes falsos em um cenário real.\n",
    "- **Sensibilidade (0.8874)**: Cerca de 88.7% das URLs de phishing são corretamente detectadas. Esse valor é importante para garantir que o modelo minimiza falsos negativos, reduzindo o risco de URLs de phishing passarem despercebidas.\n",
    "- **F1-Score (0.9392)**: O F1-Score alto indica que o modelo mantém um bom equilíbrio entre precisão e sensibilidade, sugerindo uma performance robusta e equilibrada na detecção de phishing.\n",
    "\n",
    "#### Comparação com um Benchmark Trivial\n",
    "\n",
    "Para validar a eficácia do modelo, comparamos seu desempenho com um **classificador trivial**. Esse classificador, se apenas rotulasse todas as URLs como pertencentes à classe majoritária (neste caso, URLs legítimas, que representam 57.4% dos dados de teste), teria uma precisão de 57.4%. Nosso modelo GBT, com AUC de 97%, ultrapassa amplamente essa acurácia trivial, demonstrando que ele está realmente aprendendo padrões significativos para distinguir entre URLs de phishing e legítimas, e não apenas replicando o viés da classe dominante.\n",
    "\n",
    "Esse benchmark trivial serve como uma linha de base, e o fato de nosso modelo superar essa linha com folga confirma a eficácia de nossa abordagem. A análise das métricas adicionais reforça que o GBT é um modelo robusto e bem ajustado para a detecção de phishing, capaz de capturar nuances e padrões além de uma simples classificação enviesada."
   ]
  },
  {
   "cell_type": "markdown",
   "metadata": {
    "application/vnd.databricks.v1+cell": {
     "cellMetadata": {},
     "inputWidgets": {},
     "nuid": "f556cdc3-9882-4fcf-969f-0f87bebc93b7",
     "showTitle": false,
     "tableResultSettingsMap": {},
     "title": ""
    }
   },
   "source": [
    "## Conclusão\n",
    "\n",
    "O modelo de Gradient-Boosted Trees (GBT) apresentou um desempenho robusto na tarefa de classificação de URLs como phishing ou legítimos, alcançando uma AUC de aproximadamente 97%. Essa métrica, juntamente com as análises de precisão, recall e F1-Score, confirma a eficácia do modelo em distinguir URLs maliciosos de URLs confiáveis.\n",
    "\n",
    "A precisão de 96.8% indica que o modelo raramente rotula URLs legítimos como phishing, o que é essencial para evitar falsos alarmes. A sensibilidade de 88.7% mostra que o modelo é competente em identificar a maioria dos URLs de phishing, minimizando o risco de links maliciosos passarem despercebidos. O F1-Score alto de 93.9% sugere um equilíbrio entre precisão e recall, o que é crucial em um contexto de segurança cibernética.\n",
    "\n",
    "Comparado a um classificador trivial, que teria uma precisão de 57.4% simplesmente replicando a classe majoritária, o modelo GBT demonstra que está capturando padrões relevantes para a classificação. Essa diferença significativa valida a capacidade do modelo de aprender características distintivas dos URLs de phishing, oferecendo uma solução prática e eficiente para prevenir ataques de phishing.\n",
    "\n",
    "Em resumo, a abordagem baseada em Gradient-Boosted Trees mostrou-se eficaz para a detecção de URLs de phishing, e o modelo pode ser aplicado em sistemas de monitoramento e segurança digital para proteger os usuários contra fraudes online de maneira escalável e confiável."
   ]
  }
 ],
 "metadata": {
  "application/vnd.databricks.v1+notebook": {
   "dashboards": [],
   "environmentMetadata": {
    "base_environment": "",
    "client": "1"
   },
   "language": "python",
   "notebookMetadata": {
    "mostRecentlyExecutedCommandWithImplicitDF": {
     "commandId": 2292687554493966,
     "dataframes": [
      "_sqldf"
     ]
    },
    "pythonIndentUnit": 2
   },
   "notebookName": "Projeto_Modelo_Preditivo_Phishing_final",
   "widgets": {}
  },
  "kernelspec": {
   "display_name": "Python 3 (ipykernel)",
   "language": "python",
   "name": "python3"
  },
  "language_info": {
   "name": "python"
  }
 },
 "nbformat": 4,
 "nbformat_minor": 0
}